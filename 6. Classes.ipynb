{
 "cells": [
  {
   "cell_type": "markdown",
   "metadata": {
    "slideshow": {
     "slide_type": "slide"
    }
   },
   "source": [
    "# Classes"
   ]
  },
  {
   "cell_type": "markdown",
   "metadata": {
    "slideshow": {
     "slide_type": "fragment"
    }
   },
   "source": [
    "### A class is a template or blueprint that can be used to create certain objects. The class can for instance define what special properties these objects have and which functions can operate on these objects."
   ]
  },
  {
   "cell_type": "markdown",
   "metadata": {
    "slideshow": {
     "slide_type": "slide"
    }
   },
   "source": [
    "## Class syntax"
   ]
  },
  {
   "cell_type": "markdown",
   "metadata": {
    "slideshow": {
     "slide_type": "fragment"
    }
   },
   "source": [
    "```\n",
    "class Name:\n",
    "    \"\"\"Documentation string for this class\"\"\"\n",
    "    <statement-1>\n",
    "    .\n",
    "    .\n",
    "    .\n",
    "    <statement-N>\n",
    "```"
   ]
  },
  {
   "cell_type": "markdown",
   "metadata": {
    "slideshow": {
     "slide_type": "slide"
    }
   },
   "source": [
    "## Extremely simple class"
   ]
  },
  {
   "cell_type": "code",
   "execution_count": 50,
   "metadata": {
    "collapsed": false,
    "slideshow": {
     "slide_type": "fragment"
    }
   },
   "outputs": [],
   "source": [
    "class Person:\n",
    "    def say(self, text):\n",
    "        print(text)"
   ]
  },
  {
   "cell_type": "code",
   "execution_count": 93,
   "metadata": {
    "collapsed": false,
    "slideshow": {
     "slide_type": "fragment"
    }
   },
   "outputs": [],
   "source": [
    "# Create a new Person object/instance using the class definition specified in the previous cell.\n",
    "p1 = Person()"
   ]
  },
  {
   "cell_type": "code",
   "execution_count": 94,
   "metadata": {
    "collapsed": false,
    "slideshow": {
     "slide_type": "fragment"
    }
   },
   "outputs": [
    {
     "name": "stdout",
     "output_type": "stream",
     "text": [
      "Hello!\n"
     ]
    }
   ],
   "source": [
    "p1.say('Hello!')"
   ]
  },
  {
   "cell_type": "markdown",
   "metadata": {
    "slideshow": {
     "slide_type": "slide"
    }
   },
   "source": [
    "## Class with additional properties and functions"
   ]
  },
  {
   "cell_type": "code",
   "execution_count": 97,
   "metadata": {
    "collapsed": false,
    "slideshow": {
     "slide_type": "fragment"
    }
   },
   "outputs": [],
   "source": [
    "class Ball:\n",
    "    color = 'white'\n",
    "    \n",
    "    def __init__(self, x, y):\n",
    "        self.x = x\n",
    "        self.y = y\n",
    "        \n",
    "    def print_position(self):\n",
    "        print('Current location: (', self.x, ',', self.y, ')')\n",
    "        \n",
    "    def get_position(self):\n",
    "        return (self.x, self.y)\n",
    "        \n",
    "    def move(self, x, y):\n",
    "        self.x += x\n",
    "        self.y += y\n",
    "        \n",
    "    def change_color(self, new_color):\n",
    "        self.color = new_color"
   ]
  },
  {
   "cell_type": "code",
   "execution_count": 98,
   "metadata": {
    "collapsed": false,
    "slideshow": {
     "slide_type": "subslide"
    }
   },
   "outputs": [],
   "source": [
    "b = Ball(0, 0)"
   ]
  },
  {
   "cell_type": "code",
   "execution_count": 99,
   "metadata": {
    "collapsed": false,
    "slideshow": {
     "slide_type": "fragment"
    }
   },
   "outputs": [
    {
     "name": "stdout",
     "output_type": "stream",
     "text": [
      "Current location: ( 0 , 0 )\n"
     ]
    }
   ],
   "source": [
    "b.print_position()"
   ]
  },
  {
   "cell_type": "code",
   "execution_count": 100,
   "metadata": {
    "collapsed": false,
    "slideshow": {
     "slide_type": "fragment"
    }
   },
   "outputs": [
    {
     "name": "stdout",
     "output_type": "stream",
     "text": [
      "Current location: ( 1 , 3 )\n"
     ]
    }
   ],
   "source": [
    "b.move(1, 2)\n",
    "b.print_position()"
   ]
  },
  {
   "cell_type": "code",
   "execution_count": 6,
   "metadata": {
    "collapsed": false,
    "slideshow": {
     "slide_type": "subslide"
    }
   },
   "outputs": [
    {
     "data": {
      "text/plain": [
       "'white'"
      ]
     },
     "execution_count": 6,
     "metadata": {},
     "output_type": "execute_result"
    }
   ],
   "source": [
    "b.color"
   ]
  },
  {
   "cell_type": "code",
   "execution_count": 7,
   "metadata": {
    "collapsed": false,
    "slideshow": {
     "slide_type": "fragment"
    }
   },
   "outputs": [],
   "source": [
    "b.color = 'yellow'"
   ]
  },
  {
   "cell_type": "code",
   "execution_count": 8,
   "metadata": {
    "collapsed": false,
    "slideshow": {
     "slide_type": "fragment"
    }
   },
   "outputs": [
    {
     "data": {
      "text/plain": [
       "'black'"
      ]
     },
     "execution_count": 8,
     "metadata": {},
     "output_type": "execute_result"
    }
   ],
   "source": [
    "b.change_color('black')\n",
    "b.color"
   ]
  },
  {
   "cell_type": "code",
   "execution_count": 24,
   "metadata": {
    "collapsed": false,
    "slideshow": {
     "slide_type": "subslide"
    }
   },
   "outputs": [
    {
     "name": "stdout",
     "output_type": "stream",
     "text": [
      "Current location: ( 0 , 10 )\n",
      "Current location: ( 1 , 4 )\n",
      "Current location: ( 2 , 3 )\n",
      "Current location: ( 3 , 3 )\n",
      "[(0, 10), (1, 4), (2, 3), (3, 3)]\n"
     ]
    }
   ],
   "source": [
    "import random\n",
    "\n",
    "balls = []\n",
    "for i in range(4):\n",
    "    balls.append( Ball(i, random.randint(0, 10)) )\n",
    "    \n",
    "balls\n",
    "for ball in balls:\n",
    "    ball.print_position()\n",
    "    \n",
    "positions = [ball.get_position() for ball in balls]\n",
    "print(positions)"
   ]
  },
  {
   "cell_type": "markdown",
   "metadata": {
    "slideshow": {
     "slide_type": "slide"
    }
   },
   "source": [
    "## Generic class functionality"
   ]
  },
  {
   "cell_type": "markdown",
   "metadata": {
    "slideshow": {
     "slide_type": "subslide"
    }
   },
   "source": [
    "### \\_\\_init\\_\\_(self [,arguments] ): constructor"
   ]
  },
  {
   "cell_type": "code",
   "execution_count": 1,
   "metadata": {
    "collapsed": false,
    "slideshow": {
     "slide_type": "fragment"
    }
   },
   "outputs": [],
   "source": [
    "class Building:\n",
    "    def __init__(self, name, address):\n",
    "        self.name = name\n",
    "        self.address = address\n",
    "        \n",
    "    def print_information(self):\n",
    "        print(self.name, '\\n', self.address)"
   ]
  },
  {
   "cell_type": "code",
   "execution_count": 2,
   "metadata": {
    "collapsed": false,
    "slideshow": {
     "slide_type": "fragment"
    }
   },
   "outputs": [
    {
     "name": "stdout",
     "output_type": "stream",
     "text": [
      "Smitsborg \n",
      " Nettelbosje 1, Groningen\n"
     ]
    }
   ],
   "source": [
    "zb = Building('Smitsborg', 'Nettelbosje 1, Groningen')\n",
    "zb.print_information()"
   ]
  },
  {
   "cell_type": "markdown",
   "metadata": {
    "slideshow": {
     "slide_type": "subslide"
    }
   },
   "source": [
    "### \\_\\_del\\_\\_: destructor"
   ]
  },
  {
   "cell_type": "code",
   "execution_count": 74,
   "metadata": {
    "collapsed": false,
    "slideshow": {
     "slide_type": "fragment"
    }
   },
   "outputs": [],
   "source": [
    "class Garbage:\n",
    "    def __init__(self):\n",
    "        print('Creating garbage')\n",
    "        \n",
    "    def __del__(self):\n",
    "        print('Cleaning up garbage')"
   ]
  },
  {
   "cell_type": "code",
   "execution_count": 81,
   "metadata": {
    "collapsed": false,
    "slideshow": {
     "slide_type": "fragment"
    }
   },
   "outputs": [
    {
     "name": "stdout",
     "output_type": "stream",
     "text": [
      "Creating garbage\n"
     ]
    }
   ],
   "source": [
    "g = Garbage()"
   ]
  },
  {
   "cell_type": "code",
   "execution_count": 82,
   "metadata": {
    "collapsed": false,
    "slideshow": {
     "slide_type": "fragment"
    }
   },
   "outputs": [
    {
     "name": "stdout",
     "output_type": "stream",
     "text": [
      "Cleaning up garbage\n"
     ]
    }
   ],
   "source": [
    "del(g)"
   ]
  },
  {
   "cell_type": "markdown",
   "metadata": {
    "slideshow": {
     "slide_type": "subslide"
    }
   },
   "source": [
    "### \\_\\_str\\_\\_(self): printable string representation"
   ]
  },
  {
   "cell_type": "code",
   "execution_count": 52,
   "metadata": {
    "collapsed": false,
    "slideshow": {
     "slide_type": "fragment"
    }
   },
   "outputs": [
    {
     "name": "stdout",
     "output_type": "stream",
     "text": [
      "<__main__.Building object at 0x57075d0>\n"
     ]
    }
   ],
   "source": [
    "print(zb)"
   ]
  },
  {
   "cell_type": "code",
   "execution_count": 73,
   "metadata": {
    "collapsed": false,
    "slideshow": {
     "slide_type": "fragment"
    }
   },
   "outputs": [],
   "source": [
    "class Test:\n",
    "    def __str__(self):\n",
    "        return 'This is a Test object'"
   ]
  },
  {
   "cell_type": "code",
   "execution_count": 56,
   "metadata": {
    "collapsed": false,
    "slideshow": {
     "slide_type": "fragment"
    }
   },
   "outputs": [
    {
     "name": "stdout",
     "output_type": "stream",
     "text": [
      "This is a Test object\n"
     ]
    }
   ],
   "source": [
    "print(Test())"
   ]
  },
  {
   "cell_type": "markdown",
   "metadata": {
    "slideshow": {
     "slide_type": "subslide"
    }
   },
   "source": [
    "<h3>Comparison methods:</h3>\n",
    "<pre>\n",
    "     __lt__(self, other)\n",
    "     __le__(self, other)\n",
    "     __eq__(self, other)\n",
    "     __ne__(self, other)\n",
    "     __gt__(self, other)\n",
    "     __ge__(self, other)\n",
    "</pre>"
   ]
  },
  {
   "cell_type": "code",
   "execution_count": 83,
   "metadata": {
    "collapsed": false,
    "slideshow": {
     "slide_type": "subslide"
    }
   },
   "outputs": [],
   "source": [
    "class Record:\n",
    "    def __init__(self, id):\n",
    "        self.id = id\n",
    "        \n",
    "    def __lt__(self, other):\n",
    "        return self.id < other.id\n",
    "    \n",
    "    def __eq__(self, other):\n",
    "        return self.id == other.id"
   ]
  },
  {
   "cell_type": "code",
   "execution_count": 84,
   "metadata": {
    "collapsed": false,
    "slideshow": {
     "slide_type": "fragment"
    }
   },
   "outputs": [
    {
     "name": "stdout",
     "output_type": "stream",
     "text": [
      "True\n",
      "False\n"
     ]
    }
   ],
   "source": [
    "r1 = Record(1)\n",
    "r2 = Record(2)\n",
    "print(r1 < r2)\n",
    "print(r1 == r2)"
   ]
  },
  {
   "cell_type": "markdown",
   "metadata": {
    "slideshow": {
     "slide_type": "subslide"
    }
   },
   "source": [
    "<h3>Operators:</h3>\n",
    "<pre>\n",
    "    __add__(self, other)\n",
    "    __sub__(self, other)\n",
    "    __mul__(self, other)\n",
    "    __truediv__(self, other)\n",
    "    __floordiv__(self, other)\n",
    "    __mod__(self, other)\n",
    "    __divmod__(self, other)\n",
    "    __pow__(self, other[, modulo])\n",
    "    __lshift__(self, other)\n",
    "    __rshift__(self, other)\n",
    "    __and__(self, other)\n",
    "    __xor__(self, other)\n",
    "    __or__(self, other)\n",
    "</pre>"
   ]
  },
  {
   "cell_type": "code",
   "execution_count": 86,
   "metadata": {
    "collapsed": false,
    "slideshow": {
     "slide_type": "subslide"
    }
   },
   "outputs": [],
   "source": [
    "class MyNumber:\n",
    "    def __init__(self, value):\n",
    "        self.value = value\n",
    "        \n",
    "    def __add__(self, number2):\n",
    "        return self.value + number2.value\n",
    "    \n",
    "    def __sub__(self, number2):\n",
    "        return self.value - number2.value"
   ]
  },
  {
   "cell_type": "code",
   "execution_count": 88,
   "metadata": {
    "collapsed": false,
    "slideshow": {
     "slide_type": "fragment"
    }
   },
   "outputs": [
    {
     "name": "stdout",
     "output_type": "stream",
     "text": [
      "25\n",
      "-5\n"
     ]
    }
   ],
   "source": [
    "n1 = MyNumber(10)\n",
    "n2 = MyNumber(15)\n",
    "print(n1 + n2)\n",
    "print(n1 - n2)"
   ]
  },
  {
   "cell_type": "markdown",
   "metadata": {
    "slideshow": {
     "slide_type": "slide"
    }
   },
   "source": [
    "## Inheritance"
   ]
  },
  {
   "cell_type": "markdown",
   "metadata": {
    "slideshow": {
     "slide_type": "fragment"
    }
   },
   "source": [
    "```\n",
    "class DerivedClassName(BaseClassName1, ..., BaseClassNameM):\n",
    "    <statement-1>\n",
    "    .\n",
    "    .\n",
    "    .\n",
    "    <statement-N>\n",
    "```"
   ]
  },
  {
   "cell_type": "code",
   "execution_count": 16,
   "metadata": {
    "collapsed": false,
    "slideshow": {
     "slide_type": "subslide"
    }
   },
   "outputs": [],
   "source": [
    "class Publication:\n",
    "    def set_author(self, author):\n",
    "        self.author = author\n",
    "        \n",
    "    def __str__(self):\n",
    "        return 'Author: ' + self.author\n",
    "        \n",
    "class Book(Publication):\n",
    "    def set_isbn(self, isbn):\n",
    "        self.isbn = isbn\n",
    "        \n",
    "    def __str__(self):\n",
    "        # Get the output of the __str__() method of the superclass (parent / base class)\n",
    "        publication_info = super().__str__()\n",
    "        # Add the specific Book information to this string and return the result\n",
    "        return publication_info + '\\n' + 'ISBN: ' + self.isbn"
   ]
  },
  {
   "cell_type": "code",
   "execution_count": 17,
   "metadata": {
    "collapsed": false,
    "slideshow": {
     "slide_type": "fragment"
    }
   },
   "outputs": [
    {
     "name": "stdout",
     "output_type": "stream",
     "text": [
      "Author: My name\n"
     ]
    }
   ],
   "source": [
    "publ = Publication()\n",
    "publ.set_author('My name')\n",
    "print(publ)"
   ]
  },
  {
   "cell_type": "code",
   "execution_count": 18,
   "metadata": {
    "collapsed": false,
    "slideshow": {
     "slide_type": "fragment"
    }
   },
   "outputs": [
    {
     "name": "stdout",
     "output_type": "stream",
     "text": [
      "Author: My name\n",
      "ISBN: 9789027439642\n"
     ]
    }
   ],
   "source": [
    "book = Book()\n",
    "book.set_author('My name')\n",
    "book.set_isbn('9789027439642')\n",
    "print(book)"
   ]
  }
 ],
 "metadata": {
  "celltoolbar": "Slideshow",
  "kernelspec": {
   "display_name": "Python 3",
   "language": "python",
   "name": "python3"
  },
  "language_info": {
   "codemirror_mode": {
    "name": "ipython",
    "version": 3
   },
   "file_extension": ".py",
   "mimetype": "text/x-python",
   "name": "python",
   "nbconvert_exporter": "python",
   "pygments_lexer": "ipython3",
   "version": "3.4.0"
  }
 },
 "nbformat": 4,
 "nbformat_minor": 0
}
