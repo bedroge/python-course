{
 "cells": [
  {
   "cell_type": "markdown",
   "metadata": {
    "slideshow": {
     "slide_type": "slide"
    }
   },
   "source": [
    "# Brief tour of useful Python standard library functions"
   ]
  },
  {
   "cell_type": "markdown",
   "metadata": {
    "slideshow": {
     "slide_type": "slide"
    }
   },
   "source": [
    "## File input / output (strings only!)"
   ]
  },
  {
   "cell_type": "code",
   "execution_count": 2,
   "metadata": {
    "collapsed": false,
    "slideshow": {
     "slide_type": "subslide"
    }
   },
   "outputs": [
    {
     "name": "stdout",
     "output_type": "stream",
     "text": [
      "Some text which we will write to a file.\n",
      "1\n",
      "2\n",
      "3\n"
     ]
    }
   ],
   "source": [
    "s = 'Some text which we will write to a file.\\n1\\n2\\n3'\n",
    "print(s)\n",
    "\n",
    "# Open a file with the specified name and mode.\n",
    "# The mode can be:\n",
    "# r  ->  read\n",
    "# w  ->  write\n",
    "# a  ->  append\n",
    "# r+ -> read and write\n",
    "# Append a 'b' to the mode if you want to write in binary mode.\n",
    "f = open('output.txt', 'w')\n",
    "f.write(s)\n",
    "f.close()"
   ]
  },
  {
   "cell_type": "code",
   "execution_count": 3,
   "metadata": {
    "collapsed": false,
    "slideshow": {
     "slide_type": "subslide"
    }
   },
   "outputs": [
    {
     "name": "stdout",
     "output_type": "stream",
     "text": [
      "['Some text which we will write to a file.\\n', '1\\n', '2\\n', '3']\n"
     ]
    }
   ],
   "source": [
    "f = open('output.txt', 'r')\n",
    "contents = f.readlines()\n",
    "f.close()\n",
    "print(contents)"
   ]
  },
  {
   "cell_type": "code",
   "execution_count": 4,
   "metadata": {
    "collapsed": false,
    "slideshow": {
     "slide_type": "fragment"
    }
   },
   "outputs": [
    {
     "name": "stdout",
     "output_type": "stream",
     "text": [
      "Some text which we will write to a file.\n",
      "\n",
      "1\n",
      "\n",
      "2\n",
      "\n",
      "3\n"
     ]
    }
   ],
   "source": [
    "f = open('output.txt', 'r')\n",
    "for line in f:\n",
    "    # Process the line\n",
    "    print(line)\n",
    "f.close()"
   ]
  },
  {
   "cell_type": "code",
   "execution_count": 5,
   "metadata": {
    "collapsed": false,
    "slideshow": {
     "slide_type": "subslide"
    }
   },
   "outputs": [
    {
     "name": "stdout",
     "output_type": "stream",
     "text": [
      "Some text which we will write to a file.\n",
      "1\n",
      "2\n",
      "3\n"
     ]
    }
   ],
   "source": [
    "f = open('output.txt', 'r')\n",
    "contents = f.read()\n",
    "f.close()\n",
    "print(contents)"
   ]
  },
  {
   "cell_type": "markdown",
   "metadata": {
    "slideshow": {
     "slide_type": "slide"
    }
   },
   "source": [
    "## File input and output for other data types: pickling and unpickling"
   ]
  },
  {
   "cell_type": "code",
   "execution_count": 6,
   "metadata": {
    "collapsed": false,
    "slideshow": {
     "slide_type": "fragment"
    }
   },
   "outputs": [],
   "source": [
    "import pickle"
   ]
  },
  {
   "cell_type": "code",
   "execution_count": 7,
   "metadata": {
    "collapsed": false,
    "slideshow": {
     "slide_type": "subslide"
    }
   },
   "outputs": [
    {
     "data": {
      "text/plain": [
       "b'\\x80\\x03]q\\x00(K\\x01K\\x02X\\x05\\x00\\x00\\x00Threeq\\x01\\x88]q\\x02(K\\x03K\\x04K\\x05ee.'"
      ]
     },
     "execution_count": 7,
     "metadata": {},
     "output_type": "execute_result"
    }
   ],
   "source": [
    "mylist = [1, 2, 'Three', True, [3, 4, 5]]\n",
    "# pickle.dumps converts an object into a string representation, which can be written to a file.\n",
    "pickle.dumps(mylist)"
   ]
  },
  {
   "cell_type": "code",
   "execution_count": 8,
   "metadata": {
    "collapsed": false,
    "slideshow": {
     "slide_type": "subslide"
    }
   },
   "outputs": [],
   "source": [
    "# Open file in binary mode.\n",
    "f = open('pickle.out', 'wb')\n",
    "# pickle.dump does the same as dumps, but immediately writes the output to an open file object.\n",
    "pickle.dump(mylist, f)\n",
    "f.close()"
   ]
  },
  {
   "cell_type": "code",
   "execution_count": 9,
   "metadata": {
    "collapsed": false,
    "slideshow": {
     "slide_type": "subslide"
    }
   },
   "outputs": [
    {
     "name": "stdout",
     "output_type": "stream",
     "text": [
      "[1, 2, 'Three', True, [3, 4, 5]]\n",
      "Are the lists equal? True\n"
     ]
    }
   ],
   "source": [
    "f = open('pickle.out', 'rb')\n",
    "# pickle.load(s) can be used to recover the original object from file or string representation.\n",
    "mylist2 = pickle.load(f)\n",
    "print(mylist2)\n",
    "print('Are the lists equal?', mylist == mylist2)"
   ]
  },
  {
   "cell_type": "markdown",
   "metadata": {
    "slideshow": {
     "slide_type": "slide"
    }
   },
   "source": [
    "## Operating system interface: os module"
   ]
  },
  {
   "cell_type": "code",
   "execution_count": 33,
   "metadata": {
    "collapsed": false,
    "slideshow": {
     "slide_type": "fragment"
    }
   },
   "outputs": [],
   "source": [
    "import os"
   ]
  },
  {
   "cell_type": "code",
   "execution_count": 36,
   "metadata": {
    "collapsed": true,
    "slideshow": {
     "slide_type": "fragment"
    }
   },
   "outputs": [
    {
     "name": "stdout",
     "output_type": "stream",
     "text": [
      "Help on module os:\n",
      "\n",
      "NAME\n",
      "    os - OS routines for Mac, NT, or Posix depending on what system we're on.\n",
      "\n",
      "MODULE REFERENCE\n",
      "    http://docs.python.org/3.2/library/os\n",
      "    \n",
      "    The following documentation is automatically generated from the Python\n",
      "    source files.  It may be incomplete, incorrect or include features that\n",
      "    are considered implementation detail and may vary between Python\n",
      "    implementations.  When in doubt, consult the module reference at the\n",
      "    location listed above.\n",
      "\n",
      "DESCRIPTION\n",
      "    This exports:\n",
      "      - all functions from posix, nt, os2, or ce, e.g. unlink, stat, etc.\n",
      "      - os.path is either posixpath or ntpath\n",
      "      - os.name is either 'posix', 'nt', 'os2' or 'ce'.\n",
      "      - os.curdir is a string representing the current directory ('.' or ':')\n",
      "      - os.pardir is a string representing the parent directory ('..' or '::')\n",
      "      - os.sep is the (or a most common) pathname separator ('/' or ':' or '\\\\')\n",
      "      - os.extsep is the extension separator (always '.')\n",
      "      - os.altsep is the alternate pathname separator (None or '/')\n",
      "      - os.pathsep is the component separator used in $PATH etc\n",
      "      - os.linesep is the line separator in text files ('\\r' or '\\n' or '\\r\\n')\n",
      "      - os.defpath is the default search path for executables\n",
      "      - os.devnull is the file path of the null device ('/dev/null', etc.)\n",
      "    \n",
      "    Programs that import and use 'os' stand a better chance of being\n",
      "    portable between different platforms.  Of course, they must then\n",
      "    only use functions that are defined by all platforms (e.g., unlink\n",
      "    and opendir), and leave all pathname manipulation to os.path\n",
      "    (e.g., split and join).\n",
      "\n",
      "CLASSES\n",
      "    builtins.EnvironmentError(builtins.Exception)\n",
      "        builtins.OSError\n",
      "    builtins.tuple(builtins.object)\n",
      "        posix.stat_result\n",
      "        posix.statvfs_result\n",
      "    \n",
      "    error = class OSError(EnvironmentError)\n",
      "     |  OS system call failed.\n",
      "     |  \n",
      "     |  Method resolution order:\n",
      "     |      OSError\n",
      "     |      EnvironmentError\n",
      "     |      Exception\n",
      "     |      BaseException\n",
      "     |      object\n",
      "     |  \n",
      "     |  Methods defined here:\n",
      "     |  \n",
      "     |  __init__(...)\n",
      "     |      x.__init__(...) initializes x; see help(type(x)) for signature\n",
      "     |  \n",
      "     |  ----------------------------------------------------------------------\n",
      "     |  Data and other attributes defined here:\n",
      "     |  \n",
      "     |  __new__ = <built-in method __new__ of type object>\n",
      "     |      T.__new__(S, ...) -> a new object with type S, a subtype of T\n",
      "     |  \n",
      "     |  ----------------------------------------------------------------------\n",
      "     |  Methods inherited from EnvironmentError:\n",
      "     |  \n",
      "     |  __reduce__(...)\n",
      "     |  \n",
      "     |  __str__(...)\n",
      "     |      x.__str__() <==> str(x)\n",
      "     |  \n",
      "     |  ----------------------------------------------------------------------\n",
      "     |  Data descriptors inherited from EnvironmentError:\n",
      "     |  \n",
      "     |  errno\n",
      "     |      exception errno\n",
      "     |  \n",
      "     |  filename\n",
      "     |      exception filename\n",
      "     |  \n",
      "     |  strerror\n",
      "     |      exception strerror\n",
      "     |  \n",
      "     |  ----------------------------------------------------------------------\n",
      "     |  Methods inherited from BaseException:\n",
      "     |  \n",
      "     |  __delattr__(...)\n",
      "     |      x.__delattr__('name') <==> del x.name\n",
      "     |  \n",
      "     |  __getattribute__(...)\n",
      "     |      x.__getattribute__('name') <==> x.name\n",
      "     |  \n",
      "     |  __repr__(...)\n",
      "     |      x.__repr__() <==> repr(x)\n",
      "     |  \n",
      "     |  __setattr__(...)\n",
      "     |      x.__setattr__('name', value) <==> x.name = value\n",
      "     |  \n",
      "     |  __setstate__(...)\n",
      "     |  \n",
      "     |  with_traceback(...)\n",
      "     |      Exception.with_traceback(tb) --\n",
      "     |      set self.__traceback__ to tb and return self.\n",
      "     |  \n",
      "     |  ----------------------------------------------------------------------\n",
      "     |  Data descriptors inherited from BaseException:\n",
      "     |  \n",
      "     |  __cause__\n",
      "     |      exception cause\n",
      "     |  \n",
      "     |  __context__\n",
      "     |      exception context\n",
      "     |  \n",
      "     |  __dict__\n",
      "     |  \n",
      "     |  __traceback__\n",
      "     |  \n",
      "     |  args\n",
      "    \n",
      "    class stat_result(builtins.tuple)\n",
      "     |  stat_result: Result from stat or lstat.\n",
      "     |  \n",
      "     |  This object may be accessed either as a tuple of\n",
      "     |    (mode, ino, dev, nlink, uid, gid, size, atime, mtime, ctime)\n",
      "     |  or via the attributes st_mode, st_ino, st_dev, st_nlink, st_uid, and so on.\n",
      "     |  \n",
      "     |  Posix/windows: If your platform supports st_blksize, st_blocks, st_rdev,\n",
      "     |  or st_flags, they are available as attributes only.\n",
      "     |  \n",
      "     |  See os.stat for more information.\n",
      "     |  \n",
      "     |  Method resolution order:\n",
      "     |      stat_result\n",
      "     |      builtins.tuple\n",
      "     |      builtins.object\n",
      "     |  \n",
      "     |  Methods defined here:\n",
      "     |  \n",
      "     |  __reduce__(...)\n",
      "     |  \n",
      "     |  __repr__(...)\n",
      "     |      x.__repr__() <==> repr(x)\n",
      "     |  \n",
      "     |  ----------------------------------------------------------------------\n",
      "     |  Data descriptors defined here:\n",
      "     |  \n",
      "     |  st_atime\n",
      "     |      time of last access\n",
      "     |  \n",
      "     |  st_blksize\n",
      "     |      blocksize for filesystem I/O\n",
      "     |  \n",
      "     |  st_blocks\n",
      "     |      number of blocks allocated\n",
      "     |  \n",
      "     |  st_ctime\n",
      "     |      time of last change\n",
      "     |  \n",
      "     |  st_dev\n",
      "     |      device\n",
      "     |  \n",
      "     |  st_gid\n",
      "     |      group ID of owner\n",
      "     |  \n",
      "     |  st_ino\n",
      "     |      inode\n",
      "     |  \n",
      "     |  st_mode\n",
      "     |      protection bits\n",
      "     |  \n",
      "     |  st_mtime\n",
      "     |      time of last modification\n",
      "     |  \n",
      "     |  st_nlink\n",
      "     |      number of hard links\n",
      "     |  \n",
      "     |  st_rdev\n",
      "     |      device type (if inode device)\n",
      "     |  \n",
      "     |  st_size\n",
      "     |      total size, in bytes\n",
      "     |  \n",
      "     |  st_uid\n",
      "     |      user ID of owner\n",
      "     |  \n",
      "     |  ----------------------------------------------------------------------\n",
      "     |  Data and other attributes defined here:\n",
      "     |  \n",
      "     |  __new__ = <built-in method __new__ of type object>\n",
      "     |      T.__new__(S, ...) -> a new object with type S, a subtype of T\n",
      "     |  \n",
      "     |  n_fields = 16\n",
      "     |  \n",
      "     |  n_sequence_fields = 10\n",
      "     |  \n",
      "     |  n_unnamed_fields = 3\n",
      "     |  \n",
      "     |  ----------------------------------------------------------------------\n",
      "     |  Methods inherited from builtins.tuple:\n",
      "     |  \n",
      "     |  __add__(...)\n",
      "     |      x.__add__(y) <==> x+y\n",
      "     |  \n",
      "     |  __contains__(...)\n",
      "     |      x.__contains__(y) <==> y in x\n",
      "     |  \n",
      "     |  __eq__(...)\n",
      "     |      x.__eq__(y) <==> x==y\n",
      "     |  \n",
      "     |  __ge__(...)\n",
      "     |      x.__ge__(y) <==> x>=y\n",
      "     |  \n",
      "     |  __getattribute__(...)\n",
      "     |      x.__getattribute__('name') <==> x.name\n",
      "     |  \n",
      "     |  __getitem__(...)\n",
      "     |      x.__getitem__(y) <==> x[y]\n",
      "     |  \n",
      "     |  __getnewargs__(...)\n",
      "     |  \n",
      "     |  __gt__(...)\n",
      "     |      x.__gt__(y) <==> x>y\n",
      "     |  \n",
      "     |  __hash__(...)\n",
      "     |      x.__hash__() <==> hash(x)\n",
      "     |  \n",
      "     |  __iter__(...)\n",
      "     |      x.__iter__() <==> iter(x)\n",
      "     |  \n",
      "     |  __le__(...)\n",
      "     |      x.__le__(y) <==> x<=y\n",
      "     |  \n",
      "     |  __len__(...)\n",
      "     |      x.__len__() <==> len(x)\n",
      "     |  \n",
      "     |  __lt__(...)\n",
      "     |      x.__lt__(y) <==> x<y\n",
      "     |  \n",
      "     |  __mul__(...)\n",
      "     |      x.__mul__(n) <==> x*n\n",
      "     |  \n",
      "     |  __ne__(...)\n",
      "     |      x.__ne__(y) <==> x!=y\n",
      "     |  \n",
      "     |  __rmul__(...)\n",
      "     |      x.__rmul__(n) <==> n*x\n",
      "     |  \n",
      "     |  __sizeof__(...)\n",
      "     |      T.__sizeof__() -- size of T in memory, in bytes\n",
      "     |  \n",
      "     |  count(...)\n",
      "     |      T.count(value) -> integer -- return number of occurrences of value\n",
      "     |  \n",
      "     |  index(...)\n",
      "     |      T.index(value, [start, [stop]]) -> integer -- return first index of value.\n",
      "     |      Raises ValueError if the value is not present.\n",
      "    \n",
      "    class statvfs_result(builtins.tuple)\n",
      "     |  statvfs_result: Result from statvfs or fstatvfs.\n",
      "     |  \n",
      "     |  This object may be accessed either as a tuple of\n",
      "     |    (bsize, frsize, blocks, bfree, bavail, files, ffree, favail, flag, namemax),\n",
      "     |  or via the attributes f_bsize, f_frsize, f_blocks, f_bfree, and so on.\n",
      "     |  \n",
      "     |  See os.statvfs for more information.\n",
      "     |  \n",
      "     |  Method resolution order:\n",
      "     |      statvfs_result\n",
      "     |      builtins.tuple\n",
      "     |      builtins.object\n",
      "     |  \n",
      "     |  Methods defined here:\n",
      "     |  \n",
      "     |  __reduce__(...)\n",
      "     |  \n",
      "     |  __repr__(...)\n",
      "     |      x.__repr__() <==> repr(x)\n",
      "     |  \n",
      "     |  ----------------------------------------------------------------------\n",
      "     |  Data descriptors defined here:\n",
      "     |  \n",
      "     |  f_bavail\n",
      "     |  \n",
      "     |  f_bfree\n",
      "     |  \n",
      "     |  f_blocks\n",
      "     |  \n",
      "     |  f_bsize\n",
      "     |  \n",
      "     |  f_favail\n",
      "     |  \n",
      "     |  f_ffree\n",
      "     |  \n",
      "     |  f_files\n",
      "     |  \n",
      "     |  f_flag\n",
      "     |  \n",
      "     |  f_frsize\n",
      "     |  \n",
      "     |  f_namemax\n",
      "     |  \n",
      "     |  ----------------------------------------------------------------------\n",
      "     |  Data and other attributes defined here:\n",
      "     |  \n",
      "     |  __new__ = <built-in method __new__ of type object>\n",
      "     |      T.__new__(S, ...) -> a new object with type S, a subtype of T\n",
      "     |  \n",
      "     |  n_fields = 10\n",
      "     |  \n",
      "     |  n_sequence_fields = 10\n",
      "     |  \n",
      "     |  n_unnamed_fields = 0\n",
      "     |  \n",
      "     |  ----------------------------------------------------------------------\n",
      "     |  Methods inherited from builtins.tuple:\n",
      "     |  \n",
      "     |  __add__(...)\n",
      "     |      x.__add__(y) <==> x+y\n",
      "     |  \n",
      "     |  __contains__(...)\n",
      "     |      x.__contains__(y) <==> y in x\n",
      "     |  \n",
      "     |  __eq__(...)\n",
      "     |      x.__eq__(y) <==> x==y\n",
      "     |  \n",
      "     |  __ge__(...)\n",
      "     |      x.__ge__(y) <==> x>=y\n",
      "     |  \n",
      "     |  __getattribute__(...)\n",
      "     |      x.__getattribute__('name') <==> x.name\n",
      "     |  \n",
      "     |  __getitem__(...)\n",
      "     |      x.__getitem__(y) <==> x[y]\n",
      "     |  \n",
      "     |  __getnewargs__(...)\n",
      "     |  \n",
      "     |  __gt__(...)\n",
      "     |      x.__gt__(y) <==> x>y\n",
      "     |  \n",
      "     |  __hash__(...)\n",
      "     |      x.__hash__() <==> hash(x)\n",
      "     |  \n",
      "     |  __iter__(...)\n",
      "     |      x.__iter__() <==> iter(x)\n",
      "     |  \n",
      "     |  __le__(...)\n",
      "     |      x.__le__(y) <==> x<=y\n",
      "     |  \n",
      "     |  __len__(...)\n",
      "     |      x.__len__() <==> len(x)\n",
      "     |  \n",
      "     |  __lt__(...)\n",
      "     |      x.__lt__(y) <==> x<y\n",
      "     |  \n",
      "     |  __mul__(...)\n",
      "     |      x.__mul__(n) <==> x*n\n",
      "     |  \n",
      "     |  __ne__(...)\n",
      "     |      x.__ne__(y) <==> x!=y\n",
      "     |  \n",
      "     |  __rmul__(...)\n",
      "     |      x.__rmul__(n) <==> n*x\n",
      "     |  \n",
      "     |  __sizeof__(...)\n",
      "     |      T.__sizeof__() -- size of T in memory, in bytes\n",
      "     |  \n",
      "     |  count(...)\n",
      "     |      T.count(value) -> integer -- return number of occurrences of value\n",
      "     |  \n",
      "     |  index(...)\n",
      "     |      T.index(value, [start, [stop]]) -> integer -- return first index of value.\n",
      "     |      Raises ValueError if the value is not present.\n",
      "\n",
      "FUNCTIONS\n",
      "    WCOREDUMP(...)\n",
      "        WCOREDUMP(status) -> bool\n",
      "        \n",
      "        Return True if the process returning 'status' was dumped to a core file.\n",
      "    \n",
      "    WEXITSTATUS(...)\n",
      "        WEXITSTATUS(status) -> integer\n",
      "        \n",
      "        Return the process return code from 'status'.\n",
      "    \n",
      "    WIFCONTINUED(...)\n",
      "        WIFCONTINUED(status) -> bool\n",
      "        \n",
      "        Return True if the process returning 'status' was continued from a\n",
      "        job control stop.\n",
      "    \n",
      "    WIFEXITED(...)\n",
      "        WIFEXITED(status) -> bool\n",
      "        \n",
      "        Return true if the process returning 'status' exited using the exit()\n",
      "        system call.\n",
      "    \n",
      "    WIFSIGNALED(...)\n",
      "        WIFSIGNALED(status) -> bool\n",
      "        \n",
      "        Return True if the process returning 'status' was terminated by a signal.\n",
      "    \n",
      "    WIFSTOPPED(...)\n",
      "        WIFSTOPPED(status) -> bool\n",
      "        \n",
      "        Return True if the process returning 'status' was stopped.\n",
      "    \n",
      "    WSTOPSIG(...)\n",
      "        WSTOPSIG(status) -> integer\n",
      "        \n",
      "        Return the signal that stopped the process that provided\n",
      "        the 'status' value.\n",
      "    \n",
      "    WTERMSIG(...)\n",
      "        WTERMSIG(status) -> integer\n",
      "        \n",
      "        Return the signal that terminated the process that provided the 'status'\n",
      "        value.\n",
      "    \n",
      "    abort(...)\n",
      "        abort() -> does not return!\n",
      "        \n",
      "        Abort the interpreter immediately.  This 'dumps core' or otherwise fails\n",
      "        in the hardest way possible on the hosting operating system.\n",
      "    \n",
      "    access(...)\n",
      "        access(path, mode) -> True if granted, False otherwise\n",
      "        \n",
      "        Use the real uid/gid to test for access to a path.  Note that most\n",
      "        operations will use the effective uid/gid, therefore this routine can\n",
      "        be used in a suid/sgid environment to test if the invoking user has the\n",
      "        specified access to the path.  The mode argument can be F_OK to test\n",
      "        existence, or the inclusive-OR of R_OK, W_OK, and X_OK.\n",
      "    \n",
      "    chdir(...)\n",
      "        chdir(path)\n",
      "        \n",
      "        Change the current working directory to the specified path.\n",
      "    \n",
      "    chmod(...)\n",
      "        chmod(path, mode)\n",
      "        \n",
      "        Change the access permissions of a file.\n",
      "    \n",
      "    chown(...)\n",
      "        chown(path, uid, gid)\n",
      "        \n",
      "        Change the owner and group id of path to the numeric uid and gid.\n",
      "    \n",
      "    chroot(...)\n",
      "        chroot(path)\n",
      "        \n",
      "        Change root directory to path.\n",
      "    \n",
      "    close(...)\n",
      "        close(fd)\n",
      "        \n",
      "        Close a file descriptor (for low level IO).\n",
      "    \n",
      "    closerange(...)\n",
      "        closerange(fd_low, fd_high)\n",
      "        \n",
      "        Closes all file descriptors in [fd_low, fd_high), ignoring errors.\n",
      "    \n",
      "    confstr(...)\n",
      "        confstr(name) -> string\n",
      "        \n",
      "        Return a string-valued system configuration variable.\n",
      "    \n",
      "    ctermid(...)\n",
      "        ctermid() -> string\n",
      "        \n",
      "        Return the name of the controlling terminal for this process.\n",
      "    \n",
      "    device_encoding(...)\n",
      "        device_encoding(fd) -> str\n",
      "        \n",
      "        Return a string describing the encoding of the device\n",
      "        if the output is a terminal; else return None.\n",
      "    \n",
      "    dup(...)\n",
      "        dup(fd) -> fd2\n",
      "        \n",
      "        Return a duplicate of a file descriptor.\n",
      "    \n",
      "    dup2(...)\n",
      "        dup2(old_fd, new_fd)\n",
      "        \n",
      "        Duplicate file descriptor.\n",
      "    \n",
      "    execl(file, *args)\n",
      "        execl(file, *args)\n",
      "        \n",
      "        Execute the executable file with argument list args, replacing the\n",
      "        current process.\n",
      "    \n",
      "    execle(file, *args)\n",
      "        execle(file, *args, env)\n",
      "        \n",
      "        Execute the executable file with argument list args and\n",
      "        environment env, replacing the current process.\n",
      "    \n",
      "    execlp(file, *args)\n",
      "        execlp(file, *args)\n",
      "        \n",
      "        Execute the executable file (which is searched for along $PATH)\n",
      "        with argument list args, replacing the current process.\n",
      "    \n",
      "    execlpe(file, *args)\n",
      "        execlpe(file, *args, env)\n",
      "        \n",
      "        Execute the executable file (which is searched for along $PATH)\n",
      "        with argument list args and environment env, replacing the current\n",
      "        process.\n",
      "    \n",
      "    execv(...)\n",
      "        execv(path, args)\n",
      "        \n",
      "        Execute an executable path with arguments, replacing current process.\n",
      "        \n",
      "            path: path of executable file\n",
      "            args: tuple or list of strings\n",
      "    \n",
      "    execve(...)\n",
      "        execve(path, args, env)\n",
      "        \n",
      "        Execute a path with arguments and environment, replacing current process.\n",
      "        \n",
      "            path: path of executable file\n",
      "            args: tuple or list of arguments\n",
      "            env: dictionary of strings mapping to strings\n",
      "    \n",
      "    execvp(file, args)\n",
      "        execvp(file, args)\n",
      "        \n",
      "        Execute the executable file (which is searched for along $PATH)\n",
      "        with argument list args, replacing the current process.\n",
      "        args may be a list or tuple of strings.\n",
      "    \n",
      "    execvpe(file, args, env)\n",
      "        execvpe(file, args, env)\n",
      "        \n",
      "        Execute the executable file (which is searched for along $PATH)\n",
      "        with argument list args and environment env , replacing the\n",
      "        current process.\n",
      "        args may be a list or tuple of strings.\n",
      "    \n",
      "    fchdir(...)\n",
      "        fchdir(fildes)\n",
      "        \n",
      "        Change to the directory of the given file descriptor.  fildes must be\n",
      "        opened on a directory, not a file.\n",
      "    \n",
      "    fchmod(...)\n",
      "        fchmod(fd, mode)\n",
      "        \n",
      "        Change the access permissions of the file given by file\n",
      "        descriptor fd.\n",
      "    \n",
      "    fchown(...)\n",
      "        fchown(fd, uid, gid)\n",
      "        \n",
      "        Change the owner and group id of the file given by file descriptor\n",
      "        fd to the numeric uid and gid.\n",
      "    \n",
      "    fdatasync(...)\n",
      "        fdatasync(fildes)\n",
      "        \n",
      "        force write of file with filedescriptor to disk.\n",
      "         does not force update of metadata.\n",
      "    \n",
      "    fork(...)\n",
      "        fork() -> pid\n",
      "        \n",
      "        Fork a child process.\n",
      "        Return 0 to child process and PID of child to parent process.\n",
      "    \n",
      "    forkpty(...)\n",
      "        forkpty() -> (pid, master_fd)\n",
      "        \n",
      "        Fork a new process with a new pseudo-terminal as controlling tty.\n",
      "        \n",
      "        Like fork(), return 0 as pid to child process, and PID of child to parent.\n",
      "        To both, return fd of newly opened pseudo-terminal.\n",
      "    \n",
      "    fpathconf(...)\n",
      "        fpathconf(fd, name) -> integer\n",
      "        \n",
      "        Return the configuration limit name for the file descriptor fd.\n",
      "        If there is no limit, return -1.\n",
      "    \n",
      "    fstat(...)\n",
      "        fstat(fd) -> stat result\n",
      "        \n",
      "        Like stat(), but for an open file descriptor.\n",
      "    \n",
      "    fstatvfs(...)\n",
      "        fstatvfs(fd) -> statvfs result\n",
      "        \n",
      "        Perform an fstatvfs system call on the given fd.\n",
      "    \n",
      "    fsync(...)\n",
      "        fsync(fildes)\n",
      "        \n",
      "        force write of file with filedescriptor to disk.\n",
      "    \n",
      "    ftruncate(...)\n",
      "        ftruncate(fd, length)\n",
      "        \n",
      "        Truncate a file to a specified length.\n",
      "    \n",
      "    getcwd(...)\n",
      "        getcwd() -> path\n",
      "        \n",
      "        Return a unicode string representing the current working directory.\n",
      "    \n",
      "    getcwdb(...)\n",
      "        getcwdb() -> path\n",
      "        \n",
      "        Return a bytes string representing the current working directory.\n",
      "    \n",
      "    getegid(...)\n",
      "        getegid() -> egid\n",
      "        \n",
      "        Return the current process's effective group id.\n",
      "    \n",
      "    getenv(key, default=None)\n",
      "        Get an environment variable, return None if it doesn't exist.\n",
      "        The optional second argument can specify an alternate default.\n",
      "        key, default and the result are str.\n",
      "    \n",
      "    getenvb(key, default=None)\n",
      "        Get an environment variable, return None if it doesn't exist.\n",
      "        The optional second argument can specify an alternate default.\n",
      "        key, default and the result are bytes.\n",
      "    \n",
      "    geteuid(...)\n",
      "        geteuid() -> euid\n",
      "        \n",
      "        Return the current process's effective user id.\n",
      "    \n",
      "    getgid(...)\n",
      "        getgid() -> gid\n",
      "        \n",
      "        Return the current process's group id.\n",
      "    \n",
      "    getgroups(...)\n",
      "        getgroups() -> list of group IDs\n",
      "        \n",
      "        Return list of supplemental group IDs for the process.\n",
      "    \n",
      "    getloadavg(...)\n",
      "        getloadavg() -> (float, float, float)\n",
      "        \n",
      "        Return the number of processes in the system run queue averaged over\n",
      "        the last 1, 5, and 15 minutes or raises OSError if the load average\n",
      "        was unobtainable\n",
      "    \n",
      "    getlogin(...)\n",
      "        getlogin() -> string\n",
      "        \n",
      "        Return the actual login name.\n",
      "    \n",
      "    getpgid(...)\n",
      "        getpgid(pid) -> pgid\n",
      "        \n",
      "        Call the system call getpgid().\n",
      "    \n",
      "    getpgrp(...)\n",
      "        getpgrp() -> pgrp\n",
      "        \n",
      "        Return the current process group id.\n",
      "    \n",
      "    getpid(...)\n",
      "        getpid() -> pid\n",
      "        \n",
      "        Return the current process id\n",
      "    \n",
      "    getppid(...)\n",
      "        getppid() -> ppid\n",
      "        \n",
      "        Return the parent's process id.  If the parent process has already exited,\n",
      "        Windows machines will still return its id; others systems will return the id\n",
      "        of the 'init' process (1).\n",
      "    \n",
      "    getresgid(...)\n",
      "        getresgid() -> (rgid, egid, sgid)\n",
      "        \n",
      "        Get tuple of the current process's real, effective, and saved group ids.\n",
      "    \n",
      "    getresuid(...)\n",
      "        getresuid() -> (ruid, euid, suid)\n",
      "        \n",
      "        Get tuple of the current process's real, effective, and saved user ids.\n",
      "    \n",
      "    getsid(...)\n",
      "        getsid(pid) -> sid\n",
      "        \n",
      "        Call the system call getsid().\n",
      "    \n",
      "    getuid(...)\n",
      "        getuid() -> uid\n",
      "        \n",
      "        Return the current process's user id.\n",
      "    \n",
      "    initgroups(...)\n",
      "        initgroups(username, gid) -> None\n",
      "        \n",
      "        Call the system initgroups() to initialize the group access list with all of\n",
      "        the groups of which the specified username is a member, plus the specified\n",
      "        group id.\n",
      "    \n",
      "    isatty(...)\n",
      "        isatty(fd) -> bool\n",
      "        \n",
      "        Return True if the file descriptor 'fd' is an open file descriptor\n",
      "        connected to the slave end of a terminal.\n",
      "    \n",
      "    kill(...)\n",
      "        kill(pid, sig)\n",
      "        \n",
      "        Kill a process with a signal.\n",
      "    \n",
      "    killpg(...)\n",
      "        killpg(pgid, sig)\n",
      "        \n",
      "        Kill a process group with a signal.\n",
      "    \n",
      "    lchown(...)\n",
      "        lchown(path, uid, gid)\n",
      "        \n",
      "        Change the owner and group id of path to the numeric uid and gid.\n",
      "        This function will not follow symbolic links.\n",
      "    \n",
      "    link(...)\n",
      "        link(src, dst)\n",
      "        \n",
      "        Create a hard link to a file.\n",
      "    \n",
      "    listdir(...)\n",
      "        listdir([path]) -> list_of_strings\n",
      "        \n",
      "        Return a list containing the names of the entries in the directory.\n",
      "        \n",
      "            path: path of directory to list (default: '.')\n",
      "        \n",
      "        The list is in arbitrary order.  It does not include the special\n",
      "        entries '.' and '..' even if they are present in the directory.\n",
      "    \n",
      "    lseek(...)\n",
      "        lseek(fd, pos, how) -> newpos\n",
      "        \n",
      "        Set the current position of a file descriptor.\n",
      "        Return the new cursor position in bytes, starting from the beginning.\n",
      "    \n",
      "    lstat(...)\n",
      "        lstat(path) -> stat result\n",
      "        \n",
      "        Like stat(path), but do not follow symbolic links.\n",
      "    \n",
      "    major(...)\n",
      "        major(device) -> major number\n",
      "        Extracts a device major number from a raw device number.\n",
      "    \n",
      "    makedev(...)\n",
      "        makedev(major, minor) -> device number\n",
      "        Composes a raw device number from the major and minor device numbers.\n",
      "    \n",
      "    makedirs(name, mode=511, exist_ok=False)\n",
      "        makedirs(path [, mode=0o777][, exist_ok=False])\n",
      "        \n",
      "        Super-mkdir; create a leaf directory and all intermediate ones.\n",
      "        Works like mkdir, except that any intermediate path segment (not\n",
      "        just the rightmost) will be created if it does not exist. If the\n",
      "        target directory with the same mode as we specified already exists,\n",
      "        raises an OSError if exist_ok is False, otherwise no exception is\n",
      "        raised.  This is recursive.\n",
      "    \n",
      "    minor(...)\n",
      "        minor(device) -> minor number\n",
      "        Extracts a device minor number from a raw device number.\n",
      "    \n",
      "    mkdir(...)\n",
      "        mkdir(path [, mode=0777])\n",
      "        \n",
      "        Create a directory.\n",
      "    \n",
      "    mkfifo(...)\n",
      "        mkfifo(filename [, mode=0666])\n",
      "        \n",
      "        Create a FIFO (a POSIX named pipe).\n",
      "    \n",
      "    mknod(...)\n",
      "        mknod(filename [, mode=0600, device])\n",
      "        \n",
      "        Create a filesystem node (file, device special file or named pipe)\n",
      "        named filename. mode specifies both the permissions to use and the\n",
      "        type of node to be created, being combined (bitwise OR) with one of\n",
      "        S_IFREG, S_IFCHR, S_IFBLK, and S_IFIFO. For S_IFCHR and S_IFBLK,\n",
      "        device defines the newly created device special file (probably using\n",
      "        os.makedev()), otherwise it is ignored.\n",
      "    \n",
      "    nice(...)\n",
      "        nice(inc) -> new_priority\n",
      "        \n",
      "        Decrease the priority of process by inc and return the new priority.\n",
      "    \n",
      "    open(...)\n",
      "        open(filename, flag [, mode=0777]) -> fd\n",
      "        \n",
      "        Open a file (for low level IO).\n",
      "    \n",
      "    openpty(...)\n",
      "        openpty() -> (master_fd, slave_fd)\n",
      "        \n",
      "        Open a pseudo-terminal, returning open fd's for both master and slave end.\n",
      "    \n",
      "    pathconf(...)\n",
      "        pathconf(path, name) -> integer\n",
      "        \n",
      "        Return the configuration limit name for the file or directory path.\n",
      "        If there is no limit, return -1.\n",
      "    \n",
      "    pipe(...)\n",
      "        pipe() -> (read_end, write_end)\n",
      "        \n",
      "        Create a pipe.\n",
      "    \n",
      "    putenv(...)\n",
      "        putenv(key, value)\n",
      "        \n",
      "        Change or add an environment variable.\n",
      "    \n",
      "    read(...)\n",
      "        read(fd, buffersize) -> string\n",
      "        \n",
      "        Read a file descriptor.\n",
      "    \n",
      "    readlink(...)\n",
      "        readlink(path) -> path\n",
      "        \n",
      "        Return a string representing the path to which the symbolic link points.\n",
      "    \n",
      "    remove(...)\n",
      "        remove(path)\n",
      "        \n",
      "        Remove a file (same as unlink(path)).\n",
      "    \n",
      "    removedirs(name)\n",
      "        removedirs(path)\n",
      "        \n",
      "        Super-rmdir; remove a leaf directory and all empty intermediate\n",
      "        ones.  Works like rmdir except that, if the leaf directory is\n",
      "        successfully removed, directories corresponding to rightmost path\n",
      "        segments will be pruned away until either the whole path is\n",
      "        consumed or an error occurs.  Errors during this latter phase are\n",
      "        ignored -- they generally mean that a directory was not empty.\n",
      "    \n",
      "    rename(...)\n",
      "        rename(old, new)\n",
      "        \n",
      "        Rename a file or directory.\n",
      "    \n",
      "    renames(old, new)\n",
      "        renames(old, new)\n",
      "        \n",
      "        Super-rename; create directories as necessary and delete any left\n",
      "        empty.  Works like rename, except creation of any intermediate\n",
      "        directories needed to make the new pathname good is attempted\n",
      "        first.  After the rename, directories corresponding to rightmost\n",
      "        path segments of the old name will be pruned way until either the\n",
      "        whole path is consumed or a nonempty directory is found.\n",
      "        \n",
      "        Note: this function can fail with the new directory structure made\n",
      "        if you lack permissions needed to unlink the leaf directory or\n",
      "        file.\n",
      "    \n",
      "    rmdir(...)\n",
      "        rmdir(path)\n",
      "        \n",
      "        Remove a directory.\n",
      "    \n",
      "    setegid(...)\n",
      "        setegid(gid)\n",
      "        \n",
      "        Set the current process's effective group id.\n",
      "    \n",
      "    seteuid(...)\n",
      "        seteuid(uid)\n",
      "        \n",
      "        Set the current process's effective user id.\n",
      "    \n",
      "    setgid(...)\n",
      "        setgid(gid)\n",
      "        \n",
      "        Set the current process's group id.\n",
      "    \n",
      "    setgroups(...)\n",
      "        setgroups(list)\n",
      "        \n",
      "        Set the groups of the current process to list.\n",
      "    \n",
      "    setpgid(...)\n",
      "        setpgid(pid, pgrp)\n",
      "        \n",
      "        Call the system call setpgid().\n",
      "    \n",
      "    setpgrp(...)\n",
      "        setpgrp()\n",
      "        \n",
      "        Make this process the process group leader.\n",
      "    \n",
      "    setregid(...)\n",
      "        setregid(rgid, egid)\n",
      "        \n",
      "        Set the current process's real and effective group ids.\n",
      "    \n",
      "    setresgid(...)\n",
      "        setresgid(rgid, egid, sgid)\n",
      "        \n",
      "        Set the current process's real, effective, and saved group ids.\n",
      "    \n",
      "    setresuid(...)\n",
      "        setresuid(ruid, euid, suid)\n",
      "        \n",
      "        Set the current process's real, effective, and saved user ids.\n",
      "    \n",
      "    setreuid(...)\n",
      "        setreuid(ruid, euid)\n",
      "        \n",
      "        Set the current process's real and effective user ids.\n",
      "    \n",
      "    setsid(...)\n",
      "        setsid()\n",
      "        \n",
      "        Call the system call setsid().\n",
      "    \n",
      "    setuid(...)\n",
      "        setuid(uid)\n",
      "        \n",
      "        Set the current process's user id.\n",
      "    \n",
      "    spawnl(mode, file, *args)\n",
      "        spawnl(mode, file, *args) -> integer\n",
      "        \n",
      "        Execute file with arguments from args in a subprocess.\n",
      "        If mode == P_NOWAIT return the pid of the process.\n",
      "        If mode == P_WAIT return the process's exit code if it exits normally;\n",
      "        otherwise return -SIG, where SIG is the signal that killed it.\n",
      "    \n",
      "    spawnle(mode, file, *args)\n",
      "        spawnle(mode, file, *args, env) -> integer\n",
      "        \n",
      "        Execute file with arguments from args in a subprocess with the\n",
      "        supplied environment.\n",
      "        If mode == P_NOWAIT return the pid of the process.\n",
      "        If mode == P_WAIT return the process's exit code if it exits normally;\n",
      "        otherwise return -SIG, where SIG is the signal that killed it.\n",
      "    \n",
      "    spawnlp(mode, file, *args)\n",
      "        spawnlp(mode, file, *args) -> integer\n",
      "        \n",
      "        Execute file (which is looked for along $PATH) with arguments from\n",
      "        args in a subprocess with the supplied environment.\n",
      "        If mode == P_NOWAIT return the pid of the process.\n",
      "        If mode == P_WAIT return the process's exit code if it exits normally;\n",
      "        otherwise return -SIG, where SIG is the signal that killed it.\n",
      "    \n",
      "    spawnlpe(mode, file, *args)\n",
      "        spawnlpe(mode, file, *args, env) -> integer\n",
      "        \n",
      "        Execute file (which is looked for along $PATH) with arguments from\n",
      "        args in a subprocess with the supplied environment.\n",
      "        If mode == P_NOWAIT return the pid of the process.\n",
      "        If mode == P_WAIT return the process's exit code if it exits normally;\n",
      "        otherwise return -SIG, where SIG is the signal that killed it.\n",
      "    \n",
      "    spawnv(mode, file, args)\n",
      "        spawnv(mode, file, args) -> integer\n",
      "        \n",
      "        Execute file with arguments from args in a subprocess.\n",
      "        If mode == P_NOWAIT return the pid of the process.\n",
      "        If mode == P_WAIT return the process's exit code if it exits normally;\n",
      "        otherwise return -SIG, where SIG is the signal that killed it.\n",
      "    \n",
      "    spawnve(mode, file, args, env)\n",
      "        spawnve(mode, file, args, env) -> integer\n",
      "        \n",
      "        Execute file with arguments from args in a subprocess with the\n",
      "        specified environment.\n",
      "        If mode == P_NOWAIT return the pid of the process.\n",
      "        If mode == P_WAIT return the process's exit code if it exits normally;\n",
      "        otherwise return -SIG, where SIG is the signal that killed it.\n",
      "    \n",
      "    spawnvp(mode, file, args)\n",
      "        spawnvp(mode, file, args) -> integer\n",
      "        \n",
      "        Execute file (which is looked for along $PATH) with arguments from\n",
      "        args in a subprocess.\n",
      "        If mode == P_NOWAIT return the pid of the process.\n",
      "        If mode == P_WAIT return the process's exit code if it exits normally;\n",
      "        otherwise return -SIG, where SIG is the signal that killed it.\n",
      "    \n",
      "    spawnvpe(mode, file, args, env)\n",
      "        spawnvpe(mode, file, args, env) -> integer\n",
      "        \n",
      "        Execute file (which is looked for along $PATH) with arguments from\n",
      "        args in a subprocess with the supplied environment.\n",
      "        If mode == P_NOWAIT return the pid of the process.\n",
      "        If mode == P_WAIT return the process's exit code if it exits normally;\n",
      "        otherwise return -SIG, where SIG is the signal that killed it.\n",
      "    \n",
      "    stat(...)\n",
      "        stat(path) -> stat result\n",
      "        \n",
      "        Perform a stat system call on the given path.\n",
      "    \n",
      "    stat_float_times(...)\n",
      "        stat_float_times([newval]) -> oldval\n",
      "        \n",
      "        Determine whether os.[lf]stat represents time stamps as float objects.\n",
      "        If newval is True, future calls to stat() return floats, if it is False,\n",
      "        future calls return ints. \n",
      "        If newval is omitted, return the current setting.\n",
      "    \n",
      "    statvfs(...)\n",
      "        statvfs(path) -> statvfs result\n",
      "        \n",
      "        Perform a statvfs system call on the given path.\n",
      "    \n",
      "    strerror(...)\n",
      "        strerror(code) -> string\n",
      "        \n",
      "        Translate an error code to a message string.\n",
      "    \n",
      "    symlink(...)\n",
      "        symlink(src, dst)\n",
      "        \n",
      "        Create a symbolic link pointing to src named dst.\n",
      "    \n",
      "    sysconf(...)\n",
      "        sysconf(name) -> integer\n",
      "        \n",
      "        Return an integer-valued system configuration variable.\n",
      "    \n",
      "    system(...)\n",
      "        system(command) -> exit_status\n",
      "        \n",
      "        Execute the command (a string) in a subshell.\n",
      "    \n",
      "    tcgetpgrp(...)\n",
      "        tcgetpgrp(fd) -> pgid\n",
      "        \n",
      "        Return the process group associated with the terminal given by a fd.\n",
      "    \n",
      "    tcsetpgrp(...)\n",
      "        tcsetpgrp(fd, pgid)\n",
      "        \n",
      "        Set the process group associated with the terminal given by a fd.\n",
      "    \n",
      "    times(...)\n",
      "        times() -> (utime, stime, cutime, cstime, elapsed_time)\n",
      "        \n",
      "        Return a tuple of floating point numbers indicating process times.\n",
      "    \n",
      "    ttyname(...)\n",
      "        ttyname(fd) -> string\n",
      "        \n",
      "        Return the name of the terminal device connected to 'fd'.\n",
      "    \n",
      "    umask(...)\n",
      "        umask(new_mask) -> old_mask\n",
      "        \n",
      "        Set the current numeric umask and return the previous umask.\n",
      "    \n",
      "    uname(...)\n",
      "        uname() -> (sysname, nodename, release, version, machine)\n",
      "        \n",
      "        Return a tuple identifying the current operating system.\n",
      "    \n",
      "    unlink(...)\n",
      "        unlink(path)\n",
      "        \n",
      "        Remove a file (same as remove(path)).\n",
      "    \n",
      "    unsetenv(...)\n",
      "        unsetenv(key)\n",
      "        \n",
      "        Delete an environment variable.\n",
      "    \n",
      "    urandom(...)\n",
      "        urandom(n) -> str\n",
      "        \n",
      "        Return n random bytes suitable for cryptographic use.\n",
      "    \n",
      "    utime(...)\n",
      "        utime(path, (atime, mtime))\n",
      "        utime(path, None)\n",
      "        \n",
      "        Set the access and modified time of the file to the given values.  If the\n",
      "        second form is used, set the access and modified times to the current time.\n",
      "    \n",
      "    wait(...)\n",
      "        wait() -> (pid, status)\n",
      "        \n",
      "        Wait for completion of a child process.\n",
      "    \n",
      "    wait3(...)\n",
      "        wait3(options) -> (pid, status, rusage)\n",
      "        \n",
      "        Wait for completion of a child process.\n",
      "    \n",
      "    wait4(...)\n",
      "        wait4(pid, options) -> (pid, status, rusage)\n",
      "        \n",
      "        Wait for completion of a given child process.\n",
      "    \n",
      "    waitpid(...)\n",
      "        waitpid(pid, options) -> (pid, status)\n",
      "        \n",
      "        Wait for completion of a given child process.\n",
      "    \n",
      "    walk(top, topdown=True, onerror=None, followlinks=False)\n",
      "        Directory tree generator.\n",
      "        \n",
      "        For each directory in the directory tree rooted at top (including top\n",
      "        itself, but excluding '.' and '..'), yields a 3-tuple\n",
      "        \n",
      "            dirpath, dirnames, filenames\n",
      "        \n",
      "        dirpath is a string, the path to the directory.  dirnames is a list of\n",
      "        the names of the subdirectories in dirpath (excluding '.' and '..').\n",
      "        filenames is a list of the names of the non-directory files in dirpath.\n",
      "        Note that the names in the lists are just names, with no path components.\n",
      "        To get a full path (which begins with top) to a file or directory in\n",
      "        dirpath, do os.path.join(dirpath, name).\n",
      "        \n",
      "        If optional arg 'topdown' is true or not specified, the triple for a\n",
      "        directory is generated before the triples for any of its subdirectories\n",
      "        (directories are generated top down).  If topdown is false, the triple\n",
      "        for a directory is generated after the triples for all of its\n",
      "        subdirectories (directories are generated bottom up).\n",
      "        \n",
      "        When topdown is true, the caller can modify the dirnames list in-place\n",
      "        (e.g., via del or slice assignment), and walk will only recurse into the\n",
      "        subdirectories whose names remain in dirnames; this can be used to prune\n",
      "        the search, or to impose a specific order of visiting.  Modifying\n",
      "        dirnames when topdown is false is ineffective, since the directories in\n",
      "        dirnames have already been generated by the time dirnames itself is\n",
      "        generated.\n",
      "        \n",
      "        By default errors from the os.listdir() call are ignored.  If\n",
      "        optional arg 'onerror' is specified, it should be a function; it\n",
      "        will be called with one argument, an os.error instance.  It can\n",
      "        report the error to continue with the walk, or raise the exception\n",
      "        to abort the walk.  Note that the filename is available as the\n",
      "        filename attribute of the exception object.\n",
      "        \n",
      "        By default, os.walk does not follow symbolic links to subdirectories on\n",
      "        systems that support them.  In order to get this functionality, set the\n",
      "        optional argument 'followlinks' to true.\n",
      "        \n",
      "        Caution:  if you pass a relative pathname for top, don't change the\n",
      "        current working directory between resumptions of walk.  walk never\n",
      "        changes the current directory, and assumes that the client doesn't\n",
      "        either.\n",
      "        \n",
      "        Example:\n",
      "        \n",
      "        import os\n",
      "        from os.path import join, getsize\n",
      "        for root, dirs, files in os.walk('python/Lib/email'):\n",
      "            print(root, \"consumes\", end=\"\")\n",
      "            print(sum([getsize(join(root, name)) for name in files]), end=\"\")\n",
      "            print(\"bytes in\", len(files), \"non-directory files\")\n",
      "            if 'CVS' in dirs:\n",
      "                dirs.remove('CVS')  # don't visit CVS directories\n",
      "    \n",
      "    write(...)\n",
      "        write(fd, string) -> byteswritten\n",
      "        \n",
      "        Write a string to a file descriptor.\n",
      "\n",
      "DATA\n",
      "    EX_CANTCREAT = 73\n",
      "    EX_CONFIG = 78\n",
      "    EX_DATAERR = 65\n",
      "    EX_IOERR = 74\n",
      "    EX_NOHOST = 68\n",
      "    EX_NOINPUT = 66\n",
      "    EX_NOPERM = 77\n",
      "    EX_NOUSER = 67\n",
      "    EX_OK = 0\n",
      "    EX_OSERR = 71\n",
      "    EX_OSFILE = 72\n",
      "    EX_PROTOCOL = 76\n",
      "    EX_SOFTWARE = 70\n",
      "    EX_TEMPFAIL = 75\n",
      "    EX_UNAVAILABLE = 69\n",
      "    EX_USAGE = 64\n",
      "    F_OK = 0\n",
      "    NGROUPS_MAX = 65536\n",
      "    O_APPEND = 1024\n",
      "    O_ASYNC = 8192\n",
      "    O_CREAT = 64\n",
      "    O_DIRECT = 16384\n",
      "    O_DIRECTORY = 65536\n",
      "    O_DSYNC = 4096\n",
      "    O_EXCL = 128\n",
      "    O_LARGEFILE = 0\n",
      "    O_NDELAY = 2048\n",
      "    O_NOATIME = 262144\n",
      "    O_NOCTTY = 256\n",
      "    O_NOFOLLOW = 131072\n",
      "    O_NONBLOCK = 2048\n",
      "    O_RDONLY = 0\n",
      "    O_RDWR = 2\n",
      "    O_RSYNC = 1052672\n",
      "    O_SYNC = 1052672\n",
      "    O_TRUNC = 512\n",
      "    O_WRONLY = 1\n",
      "    R_OK = 4\n",
      "    SEEK_CUR = 1\n",
      "    SEEK_END = 2\n",
      "    SEEK_SET = 0\n",
      "    ST_APPEND = 256\n",
      "    ST_MANDLOCK = 64\n",
      "    ST_NOATIME = 1024\n",
      "    ST_NODEV = 4\n",
      "    ST_NODIRATIME = 2048\n",
      "    ST_NOEXEC = 8\n",
      "    ST_NOSUID = 2\n",
      "    ST_RDONLY = 1\n",
      "    ST_RELATIME = 4096\n",
      "    ST_SYNCHRONOUS = 16\n",
      "    ST_WRITE = 128\n",
      "    TMP_MAX = 238328\n",
      "    WCONTINUED = 8\n",
      "    WNOHANG = 1\n",
      "    WUNTRACED = 2\n",
      "    W_OK = 2\n",
      "    X_OK = 1\n",
      "    __all__ = ['altsep', 'curdir', 'pardir', 'sep', 'pathsep', 'linesep', ...\n",
      "    altsep = None\n",
      "    confstr_names = {'CS_GNU_LIBC_VERSION': 2, 'CS_GNU_LIBPTHREAD_VERSION'...\n",
      "    curdir = '.'\n",
      "    defpath = ':/bin:/usr/bin'\n",
      "    devnull = '/dev/null'\n",
      "    environ = environ({'FC': 'gfortran', 'GNOME_DESKTOP_SESSIO...spf=00;36...\n",
      "    environb = environ({b'FC': b'gfortran', b'GNOME_DESKTOP_SES...00;36:',...\n",
      "    linesep = '\\n'\n",
      "    name = 'posix'\n",
      "    pardir = '..'\n",
      "    pathconf_names = {'PC_ALLOC_SIZE_MIN': 18, 'PC_ASYNC_IO': 10, 'PC_CHOW...\n",
      "    pathsep = ':'\n",
      "    sep = '/'\n",
      "    supports_bytes_environ = True\n",
      "    sysconf_names = {'SC_2_CHAR_TERM': 95, 'SC_2_C_BIND': 47, 'SC_2_C_DEV'...\n",
      "\n",
      "FILE\n",
      "    /usr/lib/python3.2/os.py\n",
      "\n",
      "\n"
     ]
    }
   ],
   "source": [
    "help(os)"
   ]
  },
  {
   "cell_type": "code",
   "execution_count": 37,
   "metadata": {
    "collapsed": true,
    "slideshow": {
     "slide_type": "fragment"
    }
   },
   "outputs": [
    {
     "data": {
      "text/plain": [
       "['EX_CANTCREAT',\n",
       " 'EX_CONFIG',\n",
       " 'EX_DATAERR',\n",
       " 'EX_IOERR',\n",
       " 'EX_NOHOST',\n",
       " 'EX_NOINPUT',\n",
       " 'EX_NOPERM',\n",
       " 'EX_NOUSER',\n",
       " 'EX_OK',\n",
       " 'EX_OSERR',\n",
       " 'EX_OSFILE',\n",
       " 'EX_PROTOCOL',\n",
       " 'EX_SOFTWARE',\n",
       " 'EX_TEMPFAIL',\n",
       " 'EX_UNAVAILABLE',\n",
       " 'EX_USAGE',\n",
       " 'F_OK',\n",
       " 'MutableMapping',\n",
       " 'NGROUPS_MAX',\n",
       " 'O_APPEND',\n",
       " 'O_ASYNC',\n",
       " 'O_CREAT',\n",
       " 'O_DIRECT',\n",
       " 'O_DIRECTORY',\n",
       " 'O_DSYNC',\n",
       " 'O_EXCL',\n",
       " 'O_LARGEFILE',\n",
       " 'O_NDELAY',\n",
       " 'O_NOATIME',\n",
       " 'O_NOCTTY',\n",
       " 'O_NOFOLLOW',\n",
       " 'O_NONBLOCK',\n",
       " 'O_RDONLY',\n",
       " 'O_RDWR',\n",
       " 'O_RSYNC',\n",
       " 'O_SYNC',\n",
       " 'O_TRUNC',\n",
       " 'O_WRONLY',\n",
       " 'P_NOWAIT',\n",
       " 'P_NOWAITO',\n",
       " 'P_WAIT',\n",
       " 'R_OK',\n",
       " 'SEEK_CUR',\n",
       " 'SEEK_END',\n",
       " 'SEEK_SET',\n",
       " 'ST_APPEND',\n",
       " 'ST_MANDLOCK',\n",
       " 'ST_NOATIME',\n",
       " 'ST_NODEV',\n",
       " 'ST_NODIRATIME',\n",
       " 'ST_NOEXEC',\n",
       " 'ST_NOSUID',\n",
       " 'ST_RDONLY',\n",
       " 'ST_RELATIME',\n",
       " 'ST_SYNCHRONOUS',\n",
       " 'ST_WRITE',\n",
       " 'TMP_MAX',\n",
       " 'WCONTINUED',\n",
       " 'WCOREDUMP',\n",
       " 'WEXITSTATUS',\n",
       " 'WIFCONTINUED',\n",
       " 'WIFEXITED',\n",
       " 'WIFSIGNALED',\n",
       " 'WIFSTOPPED',\n",
       " 'WNOHANG',\n",
       " 'WSTOPSIG',\n",
       " 'WTERMSIG',\n",
       " 'WUNTRACED',\n",
       " 'W_OK',\n",
       " 'X_OK',\n",
       " '_Environ',\n",
       " '__all__',\n",
       " '__builtins__',\n",
       " '__cached__',\n",
       " '__doc__',\n",
       " '__file__',\n",
       " '__name__',\n",
       " '__package__',\n",
       " '_copyreg',\n",
       " '_execvpe',\n",
       " '_exists',\n",
       " '_exit',\n",
       " '_get_exports_list',\n",
       " '_get_masked_mode',\n",
       " '_make_stat_result',\n",
       " '_make_statvfs_result',\n",
       " '_pickle_stat_result',\n",
       " '_pickle_statvfs_result',\n",
       " '_putenv',\n",
       " '_spawnvef',\n",
       " '_unsetenv',\n",
       " '_wrap_close',\n",
       " 'abort',\n",
       " 'access',\n",
       " 'altsep',\n",
       " 'chdir',\n",
       " 'chmod',\n",
       " 'chown',\n",
       " 'chroot',\n",
       " 'close',\n",
       " 'closerange',\n",
       " 'confstr',\n",
       " 'confstr_names',\n",
       " 'ctermid',\n",
       " 'curdir',\n",
       " 'defpath',\n",
       " 'device_encoding',\n",
       " 'devnull',\n",
       " 'dup',\n",
       " 'dup2',\n",
       " 'environ',\n",
       " 'environb',\n",
       " 'errno',\n",
       " 'error',\n",
       " 'execl',\n",
       " 'execle',\n",
       " 'execlp',\n",
       " 'execlpe',\n",
       " 'execv',\n",
       " 'execve',\n",
       " 'execvp',\n",
       " 'execvpe',\n",
       " 'extsep',\n",
       " 'fchdir',\n",
       " 'fchmod',\n",
       " 'fchown',\n",
       " 'fdatasync',\n",
       " 'fdopen',\n",
       " 'fork',\n",
       " 'forkpty',\n",
       " 'fpathconf',\n",
       " 'fsdecode',\n",
       " 'fsencode',\n",
       " 'fstat',\n",
       " 'fstatvfs',\n",
       " 'fsync',\n",
       " 'ftruncate',\n",
       " 'get_exec_path',\n",
       " 'getcwd',\n",
       " 'getcwdb',\n",
       " 'getegid',\n",
       " 'getenv',\n",
       " 'getenvb',\n",
       " 'geteuid',\n",
       " 'getgid',\n",
       " 'getgroups',\n",
       " 'getloadavg',\n",
       " 'getlogin',\n",
       " 'getpgid',\n",
       " 'getpgrp',\n",
       " 'getpid',\n",
       " 'getppid',\n",
       " 'getresgid',\n",
       " 'getresuid',\n",
       " 'getsid',\n",
       " 'getuid',\n",
       " 'initgroups',\n",
       " 'isatty',\n",
       " 'kill',\n",
       " 'killpg',\n",
       " 'lchown',\n",
       " 'linesep',\n",
       " 'link',\n",
       " 'listdir',\n",
       " 'lseek',\n",
       " 'lstat',\n",
       " 'major',\n",
       " 'makedev',\n",
       " 'makedirs',\n",
       " 'minor',\n",
       " 'mkdir',\n",
       " 'mkfifo',\n",
       " 'mknod',\n",
       " 'name',\n",
       " 'nice',\n",
       " 'open',\n",
       " 'openpty',\n",
       " 'pardir',\n",
       " 'path',\n",
       " 'pathconf',\n",
       " 'pathconf_names',\n",
       " 'pathsep',\n",
       " 'pipe',\n",
       " 'popen',\n",
       " 'putenv',\n",
       " 'read',\n",
       " 'readlink',\n",
       " 'remove',\n",
       " 'removedirs',\n",
       " 'rename',\n",
       " 'renames',\n",
       " 'rmdir',\n",
       " 'sep',\n",
       " 'setegid',\n",
       " 'seteuid',\n",
       " 'setgid',\n",
       " 'setgroups',\n",
       " 'setpgid',\n",
       " 'setpgrp',\n",
       " 'setregid',\n",
       " 'setresgid',\n",
       " 'setresuid',\n",
       " 'setreuid',\n",
       " 'setsid',\n",
       " 'setuid',\n",
       " 'spawnl',\n",
       " 'spawnle',\n",
       " 'spawnlp',\n",
       " 'spawnlpe',\n",
       " 'spawnv',\n",
       " 'spawnve',\n",
       " 'spawnvp',\n",
       " 'spawnvpe',\n",
       " 'stat',\n",
       " 'stat_float_times',\n",
       " 'stat_result',\n",
       " 'statvfs',\n",
       " 'statvfs_result',\n",
       " 'strerror',\n",
       " 'supports_bytes_environ',\n",
       " 'symlink',\n",
       " 'sys',\n",
       " 'sysconf',\n",
       " 'sysconf_names',\n",
       " 'system',\n",
       " 'tcgetpgrp',\n",
       " 'tcsetpgrp',\n",
       " 'times',\n",
       " 'ttyname',\n",
       " 'umask',\n",
       " 'uname',\n",
       " 'unlink',\n",
       " 'unsetenv',\n",
       " 'urandom',\n",
       " 'utime',\n",
       " 'wait',\n",
       " 'wait3',\n",
       " 'wait4',\n",
       " 'waitpid',\n",
       " 'walk',\n",
       " 'write']"
      ]
     },
     "execution_count": 37,
     "metadata": {},
     "output_type": "execute_result"
    }
   ],
   "source": [
    "dir(os)"
   ]
  },
  {
   "cell_type": "code",
   "execution_count": 38,
   "metadata": {
    "collapsed": false,
    "slideshow": {
     "slide_type": "subslide"
    }
   },
   "outputs": [
    {
     "data": {
      "text/plain": [
       "'/home/bob/CursusPython'"
      ]
     },
     "execution_count": 38,
     "metadata": {},
     "output_type": "execute_result"
    }
   ],
   "source": [
    "os.getcwd()"
   ]
  },
  {
   "cell_type": "code",
   "execution_count": 47,
   "metadata": {
    "collapsed": false,
    "slideshow": {
     "slide_type": "subslide"
    }
   },
   "outputs": [
    {
     "data": {
      "text/plain": [
       "['6. Classes.ipynb',\n",
       " 'output.txt',\n",
       " 'pickle.out',\n",
       " 'ipy_table',\n",
       " '2. Control flow.ipynb',\n",
       " '3. Errors and Exceptions.ipynb',\n",
       " '5. Modules and packages.ipynb',\n",
       " 'bck',\n",
       " 'launch.sh',\n",
       " '4. Functions.ipynb',\n",
       " '0. Introduction.ipynb',\n",
       " 'Untitled0.ipynb',\n",
       " 'ipythongit',\n",
       " 'images',\n",
       " '7. Standard library.ipynb',\n",
       " '1. Basic syntax and data types.ipynb']"
      ]
     },
     "execution_count": 47,
     "metadata": {},
     "output_type": "execute_result"
    }
   ],
   "source": [
    "os.listdir()"
   ]
  },
  {
   "cell_type": "code",
   "execution_count": 41,
   "metadata": {
    "collapsed": false,
    "slideshow": {
     "slide_type": "subslide"
    }
   },
   "outputs": [
    {
     "name": "stdout",
     "output_type": "stream",
     "text": [
      "some_directory/subdirectory/another_subdirectory/filename\n"
     ]
    }
   ],
   "source": [
    "path = os.path.join('some_directory', 'subdirectory', 'another_subdirectory', 'filename')\n",
    "print(path)"
   ]
  },
  {
   "cell_type": "code",
   "execution_count": 42,
   "metadata": {
    "collapsed": false,
    "slideshow": {
     "slide_type": "subslide"
    }
   },
   "outputs": [
    {
     "data": {
      "text/plain": [
       "False"
      ]
     },
     "execution_count": 42,
     "metadata": {},
     "output_type": "execute_result"
    }
   ],
   "source": [
    "os.path.exists(path)"
   ]
  },
  {
   "cell_type": "markdown",
   "metadata": {
    "slideshow": {
     "slide_type": "subslide"
    }
   },
   "source": [
    "### Additionally, the shutil module can be used for file and directory operations/management"
   ]
  },
  {
   "cell_type": "code",
   "execution_count": 43,
   "metadata": {
    "collapsed": false,
    "slideshow": {
     "slide_type": "fragment"
    }
   },
   "outputs": [],
   "source": [
    "import shutil"
   ]
  },
  {
   "cell_type": "code",
   "execution_count": 44,
   "metadata": {
    "collapsed": true,
    "slideshow": {
     "slide_type": "fragment"
    }
   },
   "outputs": [
    {
     "data": {
      "text/plain": [
       "['Error',\n",
       " 'ExecError',\n",
       " 'ReadError',\n",
       " 'RegistryError',\n",
       " 'SpecialFileError',\n",
       " 'WindowsError',\n",
       " '_ARCHIVE_FORMATS',\n",
       " '_BZ2_SUPPORTED',\n",
       " '_UNPACK_FORMATS',\n",
       " '__all__',\n",
       " '__builtins__',\n",
       " '__cached__',\n",
       " '__doc__',\n",
       " '__file__',\n",
       " '__name__',\n",
       " '__package__',\n",
       " '_basename',\n",
       " '_call_external_zip',\n",
       " '_check_unpack_options',\n",
       " '_destinsrc',\n",
       " '_ensure_directory',\n",
       " '_find_unpack_format',\n",
       " '_get_gid',\n",
       " '_get_uid',\n",
       " '_make_tarball',\n",
       " '_make_zipfile',\n",
       " '_samefile',\n",
       " '_unpack_tarfile',\n",
       " '_unpack_zipfile',\n",
       " 'abspath',\n",
       " 'bz2',\n",
       " 'collections',\n",
       " 'copy',\n",
       " 'copy2',\n",
       " 'copyfile',\n",
       " 'copyfileobj',\n",
       " 'copymode',\n",
       " 'copystat',\n",
       " 'copytree',\n",
       " 'errno',\n",
       " 'fnmatch',\n",
       " 'get_archive_formats',\n",
       " 'get_unpack_formats',\n",
       " 'getgrnam',\n",
       " 'getpwnam',\n",
       " 'ignore_patterns',\n",
       " 'make_archive',\n",
       " 'move',\n",
       " 'os',\n",
       " 'register_archive_format',\n",
       " 'register_unpack_format',\n",
       " 'rmtree',\n",
       " 'stat',\n",
       " 'sys',\n",
       " 'tarfile',\n",
       " 'unpack_archive',\n",
       " 'unregister_archive_format',\n",
       " 'unregister_unpack_format']"
      ]
     },
     "execution_count": 44,
     "metadata": {},
     "output_type": "execute_result"
    }
   ],
   "source": [
    "dir(shutil)"
   ]
  },
  {
   "cell_type": "code",
   "execution_count": 46,
   "metadata": {
    "collapsed": false,
    "slideshow": {
     "slide_type": "fragment"
    }
   },
   "outputs": [
    {
     "name": "stdout",
     "output_type": "stream",
     "text": [
      "Help on function copyfile in module shutil:\n",
      "\n",
      "copyfile(src, dst)\n",
      "    Copy data from src to dst\n",
      "\n"
     ]
    }
   ],
   "source": [
    "help(shutil.copyfile)"
   ]
  },
  {
   "cell_type": "markdown",
   "metadata": {
    "slideshow": {
     "slide_type": "subslide"
    }
   },
   "source": [
    "### File wildcards"
   ]
  },
  {
   "cell_type": "code",
   "execution_count": 1,
   "metadata": {
    "collapsed": false,
    "slideshow": {
     "slide_type": "fragment"
    }
   },
   "outputs": [],
   "source": [
    "import glob"
   ]
  },
  {
   "cell_type": "code",
   "execution_count": 2,
   "metadata": {
    "collapsed": false,
    "slideshow": {
     "slide_type": "fragment"
    }
   },
   "outputs": [
    {
     "data": {
      "text/plain": [
       "['6. Classes.ipynb',\n",
       " '2. Control flow.ipynb',\n",
       " '3. Errors and Exceptions.ipynb',\n",
       " '5. Modules and packages.ipynb',\n",
       " '4. Functions.ipynb',\n",
       " '0. Introduction.ipynb',\n",
       " 'Untitled0.ipynb',\n",
       " '7. Standard library.ipynb',\n",
       " '1. Basic syntax and data types.ipynb']"
      ]
     },
     "execution_count": 2,
     "metadata": {},
     "output_type": "execute_result"
    }
   ],
   "source": [
    "glob.glob('*.ipynb')"
   ]
  },
  {
   "cell_type": "markdown",
   "metadata": {
    "slideshow": {
     "slide_type": "slide"
    }
   },
   "source": [
    "## System interface: sys module"
   ]
  },
  {
   "cell_type": "markdown",
   "metadata": {
    "slideshow": {
     "slide_type": "subslide"
    }
   },
   "source": [
    "### Command-line arguments"
   ]
  },
  {
   "cell_type": "code",
   "execution_count": 3,
   "metadata": {
    "collapsed": false,
    "slideshow": {
     "slide_type": "skip"
    }
   },
   "outputs": [],
   "source": [
    "import sys"
   ]
  },
  {
   "cell_type": "code",
   "execution_count": 5,
   "metadata": {
    "collapsed": false,
    "slideshow": {
     "slide_type": "fragment"
    }
   },
   "outputs": [
    {
     "data": {
      "text/plain": [
       "['-c',\n",
       " '-f',\n",
       " '/home/bob/.config/ipython/profile_default/security/kernel-f45d89d7-aded-46fa-8a77-21c30a18c8c2.json',\n",
       " '--pylab',\n",
       " \"--IPKernelApp.parent_appname='ipython-notebook'\",\n",
       " '--parent=1']"
      ]
     },
     "execution_count": 5,
     "metadata": {},
     "output_type": "execute_result"
    }
   ],
   "source": [
    "sys.argv"
   ]
  },
  {
   "cell_type": "markdown",
   "metadata": {
    "slideshow": {
     "slide_type": "subslide"
    }
   },
   "source": [
    "### System information"
   ]
  },
  {
   "cell_type": "code",
   "execution_count": 8,
   "metadata": {
    "collapsed": false,
    "slideshow": {
     "slide_type": "fragment"
    }
   },
   "outputs": [
    {
     "data": {
      "text/plain": [
       "'linux2'"
      ]
     },
     "execution_count": 8,
     "metadata": {},
     "output_type": "execute_result"
    }
   ],
   "source": [
    "sys.platform"
   ]
  },
  {
   "cell_type": "code",
   "execution_count": 12,
   "metadata": {
    "collapsed": false,
    "slideshow": {
     "slide_type": "fragment"
    }
   },
   "outputs": [
    {
     "data": {
      "text/plain": [
       "['',\n",
       " '/home/bob/numba/inst/lib/python2.7/site-packages/meta-development-py2.7.egg',\n",
       " '/usr/local/lib/python3.2/dist-packages/tornado-2.4.1-py3.2.egg',\n",
       " '/usr/local/lib/python3.2/dist-packages/Jinja2-2.6-py3.2.egg',\n",
       " '/usr/local/lib/python3.2/dist-packages/ipython-1.0.dev-py3.2.egg',\n",
       " '/usr/local/lib/python3.2/dist-packages/ipy_table-1.12-py3.2.egg',\n",
       " '/home/bob/numba/inst/lib/python2.7/site-packages',\n",
       " '/home/bob/CursusPython',\n",
       " '/usr/lib/python3.2',\n",
       " '/usr/lib/python3.2/plat-linux2',\n",
       " '/usr/lib/python3.2/lib-dynload',\n",
       " '/usr/local/lib/python3.2/dist-packages',\n",
       " '/usr/lib/python3/dist-packages',\n",
       " '/usr/local/lib/python3.2/dist-packages/ipython-1.0.dev-py3.2.egg/IPython/extensions']"
      ]
     },
     "execution_count": 12,
     "metadata": {},
     "output_type": "execute_result"
    }
   ],
   "source": [
    "sys.path"
   ]
  },
  {
   "cell_type": "markdown",
   "metadata": {
    "slideshow": {
     "slide_type": "subslide"
    }
   },
   "source": [
    "### Standard input, output and error"
   ]
  },
  {
   "cell_type": "code",
   "execution_count": 6,
   "metadata": {
    "collapsed": false,
    "slideshow": {
     "slide_type": "fragment"
    }
   },
   "outputs": [
    {
     "data": {
      "text/plain": [
       "[]"
      ]
     },
     "execution_count": 6,
     "metadata": {},
     "output_type": "execute_result"
    }
   ],
   "source": [
    "# Read from standard input.\n",
    "# Could be used if you start your script like: python myscript.py < input.txt\n",
    "sys.stdin.readlines()"
   ]
  },
  {
   "cell_type": "code",
   "execution_count": 9,
   "metadata": {
    "collapsed": false,
    "slideshow": {
     "slide_type": "fragment"
    }
   },
   "outputs": [
    {
     "name": "stdout",
     "output_type": "stream",
     "text": [
      "Some output."
     ]
    }
   ],
   "source": [
    "# Write to standard output.\n",
    "sys.stdout.write('Some output.')"
   ]
  },
  {
   "cell_type": "code",
   "execution_count": 8,
   "metadata": {
    "collapsed": false,
    "slideshow": {
     "slide_type": "fragment"
    }
   },
   "outputs": [
    {
     "name": "stderr",
     "output_type": "stream",
     "text": [
      "An error occurred!"
     ]
    }
   ],
   "source": [
    "# Write to standard error.\n",
    "sys.stderr.write('An error occurred!')"
   ]
  },
  {
   "cell_type": "markdown",
   "metadata": {
    "slideshow": {
     "slide_type": "slide"
    }
   },
   "source": [
    "## Dates and times functionality: datetime module"
   ]
  },
  {
   "cell_type": "code",
   "execution_count": 19,
   "metadata": {
    "collapsed": false,
    "slideshow": {
     "slide_type": "fragment"
    }
   },
   "outputs": [],
   "source": [
    "import datetime"
   ]
  },
  {
   "cell_type": "code",
   "execution_count": 35,
   "metadata": {
    "collapsed": false,
    "slideshow": {
     "slide_type": "subslide"
    }
   },
   "outputs": [
    {
     "data": {
      "text/plain": [
       "datetime.date(2013, 4, 9)"
      ]
     },
     "execution_count": 35,
     "metadata": {},
     "output_type": "execute_result"
    }
   ],
   "source": [
    "today = datetime.date.today()\n",
    "today"
   ]
  },
  {
   "cell_type": "code",
   "execution_count": 37,
   "metadata": {
    "collapsed": false,
    "slideshow": {
     "slide_type": "fragment"
    }
   },
   "outputs": [
    {
     "data": {
      "text/plain": [
       "2013"
      ]
     },
     "execution_count": 37,
     "metadata": {},
     "output_type": "execute_result"
    }
   ],
   "source": [
    "today.year"
   ]
  },
  {
   "cell_type": "code",
   "execution_count": 47,
   "metadata": {
    "collapsed": false,
    "slideshow": {
     "slide_type": "fragment"
    }
   },
   "outputs": [
    {
     "data": {
      "text/plain": [
       "'Tuesday 09-04-2013'"
      ]
     },
     "execution_count": 47,
     "metadata": {},
     "output_type": "execute_result"
    }
   ],
   "source": [
    "today.strftime('%A %d-%m-%Y')"
   ]
  },
  {
   "cell_type": "code",
   "execution_count": 48,
   "metadata": {
    "collapsed": false,
    "slideshow": {
     "slide_type": "fragment"
    }
   },
   "outputs": [],
   "source": [
    "jan1 = datetime.date(2013, 1, 1)"
   ]
  },
  {
   "cell_type": "code",
   "execution_count": 49,
   "metadata": {
    "collapsed": false,
    "slideshow": {
     "slide_type": "subslide"
    }
   },
   "outputs": [
    {
     "data": {
      "text/plain": [
       "datetime.timedelta(98)"
      ]
     },
     "execution_count": 49,
     "metadata": {},
     "output_type": "execute_result"
    }
   ],
   "source": [
    "today - jan1"
   ]
  },
  {
   "cell_type": "code",
   "execution_count": 50,
   "metadata": {
    "collapsed": false,
    "slideshow": {
     "slide_type": "fragment"
    }
   },
   "outputs": [
    {
     "data": {
      "text/plain": [
       "98"
      ]
     },
     "execution_count": 50,
     "metadata": {},
     "output_type": "execute_result"
    }
   ],
   "source": [
    "(today - jan1).days"
   ]
  },
  {
   "cell_type": "code",
   "execution_count": 56,
   "metadata": {
    "collapsed": false,
    "slideshow": {
     "slide_type": "fragment"
    }
   },
   "outputs": [
    {
     "data": {
      "text/plain": [
       "datetime.timedelta(4847)"
      ]
     },
     "execution_count": 56,
     "metadata": {},
     "output_type": "execute_result"
    }
   ],
   "source": [
    "today - datetime.date(2000, 1, 1)"
   ]
  },
  {
   "cell_type": "code",
   "execution_count": 62,
   "metadata": {
    "collapsed": false,
    "slideshow": {
     "slide_type": "fragment"
    }
   },
   "outputs": [
    {
     "data": {
      "text/plain": [
       "datetime.datetime(2013, 4, 9, 13, 52, 28, 939594)"
      ]
     },
     "execution_count": 62,
     "metadata": {},
     "output_type": "execute_result"
    }
   ],
   "source": [
    "now = datetime.datetime.now()\n",
    "now"
   ]
  },
  {
   "cell_type": "code",
   "execution_count": 63,
   "metadata": {
    "collapsed": false,
    "slideshow": {
     "slide_type": "fragment"
    }
   },
   "outputs": [
    {
     "name": "stdout",
     "output_type": "stream",
     "text": [
      "2013-04-09 13:52:28.939594\n"
     ]
    }
   ],
   "source": [
    "print(now)"
   ]
  },
  {
   "cell_type": "markdown",
   "metadata": {
    "slideshow": {
     "slide_type": "subslide"
    }
   },
   "source": [
    "## Logging facility: logging module"
   ]
  },
  {
   "cell_type": "code",
   "execution_count": 2,
   "metadata": {
    "collapsed": false,
    "slideshow": {
     "slide_type": "fragment"
    }
   },
   "outputs": [],
   "source": [
    "import logging"
   ]
  },
  {
   "cell_type": "code",
   "execution_count": 3,
   "metadata": {
    "collapsed": false,
    "slideshow": {
     "slide_type": "subslide"
    }
   },
   "outputs": [
    {
     "name": "stderr",
     "output_type": "stream",
     "text": [
      "WARNING:root:Warning:config file server.conf not found\n",
      "ERROR:root:Error occurred\n",
      "CRITICAL:root:Critical error -- shutting down\n"
     ]
    }
   ],
   "source": [
    "logging.debug('Debugging information')\n",
    "logging.info('Informational message')\n",
    "logging.warning('Warning:config file %s not found', 'server.conf')\n",
    "logging.error('Error occurred')\n",
    "logging.critical('Critical error -- shutting down')"
   ]
  },
  {
   "cell_type": "code",
   "execution_count": 4,
   "metadata": {
    "collapsed": false,
    "slideshow": {
     "slide_type": "subslide"
    }
   },
   "outputs": [
    {
     "name": "stdout",
     "output_type": "stream",
     "text": [
      "Help on function basicConfig in module logging:\n",
      "\n",
      "basicConfig(**kwargs)\n",
      "    Do basic configuration for the logging system.\n",
      "    \n",
      "    This function does nothing if the root logger already has handlers\n",
      "    configured. It is a convenience method intended for use by simple scripts\n",
      "    to do one-shot configuration of the logging package.\n",
      "    \n",
      "    The default behaviour is to create a StreamHandler which writes to\n",
      "    sys.stderr, set a formatter using the BASIC_FORMAT format string, and\n",
      "    add the handler to the root logger.\n",
      "    \n",
      "    A number of optional keyword arguments may be specified, which can alter\n",
      "    the default behaviour.\n",
      "    \n",
      "    filename  Specifies that a FileHandler be created, using the specified\n",
      "              filename, rather than a StreamHandler.\n",
      "    filemode  Specifies the mode to open the file, if filename is specified\n",
      "              (if filemode is unspecified, it defaults to 'a').\n",
      "    format    Use the specified format string for the handler.\n",
      "    datefmt   Use the specified date/time format.\n",
      "    style     If a format string is specified, use this to specify the\n",
      "              type of format string (possible values '%', '{', '$', for\n",
      "              %-formatting, :meth:`str.format` and :class:`string.Template`\n",
      "              - defaults to '%').\n",
      "    level     Set the root logger level to the specified level.\n",
      "    stream    Use the specified stream to initialize the StreamHandler. Note\n",
      "              that this argument is incompatible with 'filename' - if both\n",
      "              are present, 'stream' is ignored.\n",
      "    handlers  If specified, this should be an iterable of already created\n",
      "              handlers, which will be added to the root handler. Any handler\n",
      "              in the list which does not have a formatter assigned will be\n",
      "              assigned the formatter created in this function.\n",
      "    \n",
      "    Note that you could specify a stream created using open(filename, mode)\n",
      "    rather than passing the filename and mode in. However, it should be\n",
      "    remembered that StreamHandler does not close its stream (since it may be\n",
      "    using sys.stdout or sys.stderr), whereas FileHandler closes its stream\n",
      "    when the handler is closed.\n",
      "    \n",
      "    .. versionchanged:: 3.2\n",
      "       Added the ``style`` parameter.\n",
      "    \n",
      "    .. versionchanged:: 3.3\n",
      "       Added the ``handlers`` parameter. A ``ValueError`` is now thrown for\n",
      "       incompatible arguments (e.g. ``handlers`` specified together with\n",
      "       ``filename``/``filemode``, or ``filename``/``filemode`` specified\n",
      "       together with ``stream``, or ``handlers`` specified together with\n",
      "       ``stream``.\n",
      "\n"
     ]
    }
   ],
   "source": [
    "help(logging.basicConfig)"
   ]
  },
  {
   "cell_type": "code",
   "execution_count": 5,
   "metadata": {
    "collapsed": false,
    "slideshow": {
     "slide_type": "subslide"
    }
   },
   "outputs": [],
   "source": [
    "# Logging all messages of (at least) a specified level to a file:\n",
    "logging.basicConfig(filename='output.log', level=logging.DEBUG)"
   ]
  }
 ],
 "metadata": {
  "celltoolbar": "Slideshow",
  "kernelspec": {
   "display_name": "Python 3",
   "language": "python",
   "name": "python3"
  },
  "language_info": {
   "codemirror_mode": {
    "name": "ipython",
    "version": 3
   },
   "file_extension": ".py",
   "mimetype": "text/x-python",
   "name": "python",
   "nbconvert_exporter": "python",
   "pygments_lexer": "ipython3",
   "version": "3.4.0"
  }
 },
 "nbformat": 4,
 "nbformat_minor": 0
}
