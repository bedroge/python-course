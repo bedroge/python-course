{
 "metadata": {
  "name": "1a. Basic syntax"
 },
 "nbformat": 3,
 "nbformat_minor": 0,
 "worksheets": [
  {
   "cells": [
    {
     "cell_type": "heading",
     "level": 1,
     "metadata": {
      "slideshow": {
       "slide_type": "slide"
      }
     },
     "source": [
      "Python syntax"
     ]
    },
    {
     "cell_type": "heading",
     "level": 2,
     "metadata": {
      "slideshow": {
       "slide_type": "subslide"
      }
     },
     "source": [
      "Simple example"
     ]
    },
    {
     "cell_type": "code",
     "collapsed": false,
     "input": [
      "# This is a comment\n",
      "\n",
      "# Define some variables\n",
      "x = 5 # Comment on the same line\n",
      "y = 2 * (x + 5)\n",
      "\n",
      "# Note that you do not have to specify types!\n",
      "\n",
      "s = \"If you want to continue your statement on \\\n",
      "the next line, use the backslash symbol\"\n",
      "\n",
      "s2 = '''This is another\n",
      "example of entering\n",
      "a long string'''\n",
      "\n",
      "print(s)\n",
      "print(y)\n",
      "print(s2)\n",
      "\n",
      "if 1+1==2:\n",
      "    # The colon indicates the start of a block of code, usually indicated with { ... } in other languages.\n",
      "    # Python requires you to indent the entire block!\n",
      "    print(\"Hooray!\")"
     ],
     "language": "python",
     "metadata": {
      "slideshow": {
       "slide_type": "fragment"
      }
     },
     "outputs": [
      {
       "output_type": "stream",
       "stream": "stdout",
       "text": [
        "If you want to continue your statement on the next line, use the backslash symbol\n",
        "20\n",
        "This is another\n",
        "example of entering\n",
        "a long string\n",
        "Hooray!\n"
       ]
      }
     ],
     "prompt_number": 1
    },
    {
     "cell_type": "heading",
     "level": 2,
     "metadata": {
      "slideshow": {
       "slide_type": "skip"
      }
     },
     "source": [
      "Symbols and operators"
     ]
    },
    {
     "cell_type": "markdown",
     "metadata": {
      "slideshow": {
       "slide_type": "skip"
      }
     },
     "source": [
      "<h3>Basic</h3>\n",
      "<table>\n",
      "<tr><td><strong>Symbol / operator</strong></td><td><strong>Meaning</strong></td></tr>\n",
      "<tr><td>=</td><td>Assignment</td></tr>\n",
      "<tr><td>#</td><td>Start of comment</td></tr>\n",
      "<tr><td>( )</td><td>Grouping</td></tr>\n",
      "<tr><td>\\</td><td>Multi-line statement</td></tr>\n",
      "<tr><td>;</td><td>Multiple statements on one line</td></tr>\n",
      "<tr><td>:</td><td>Start of block</td></tr>\n",
      "</table>"
     ]
    },
    {
     "cell_type": "markdown",
     "metadata": {
      "slideshow": {
       "slide_type": "skip"
      }
     },
     "source": [
      "<h3>Mathematics</h3>\n",
      "<table>\n",
      "<tr><td><strong>Symbol / operator</strong></td><td><strong>Meaning</strong></td></tr>\n",
      "<tr><td>+</td><td>Addition (also used for concatenation)</td></tr>\n",
      "<tr><td>-</td><td>Subtraction</td></tr>\n",
      "<tr><td>*</td><td>Multiplication</td></tr>\n",
      "<tr><td>/</td><td>Division</td></tr>\n",
      "<tr><td>//</td><td>Integer division</td></tr>\n",
      "<tr><td>**</td><td>Power / exponent</td></tr>\n",
      "<tr><td>%</td><td>Modulus</td></tr>\n",
      "<tr><td>j or J</td><td>Imaginery part of complex number</td></tr>\n",
      "</table>"
     ]
    },
    {
     "cell_type": "heading",
     "level": 2,
     "metadata": {},
     "source": [
      "Keywords: reserved words that cannot be used as identifier"
     ]
    },
    {
     "cell_type": "markdown",
     "metadata": {},
     "source": [
      "<pre>\n",
      "False      class      finally    is         return\n",
      "None       continue   for        lambda     try\n",
      "True       def        from       nonlocal   while\n",
      "and        del        global     not        with\n",
      "as         elif       if         or         yield\n",
      "assert     else       import     pass\n",
      "break      except     in         raise\n",
      "</pre>"
     ]
    }
   ],
   "metadata": {}
  }
 ]
}