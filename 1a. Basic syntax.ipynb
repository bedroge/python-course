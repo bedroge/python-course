{
 "cells": [
  {
   "cell_type": "markdown",
   "metadata": {
    "slideshow": {
     "slide_type": "slide"
    }
   },
   "source": [
    "# Python syntax"
   ]
  },
  {
   "cell_type": "markdown",
   "metadata": {
    "slideshow": {
     "slide_type": "slide"
    }
   },
   "source": [
    "## Simple example"
   ]
  },
  {
   "cell_type": "code",
   "execution_count": 1,
   "metadata": {
    "collapsed": false,
    "slideshow": {
     "slide_type": "subslide"
    }
   },
   "outputs": [],
   "source": [
    "# This is a comment\n",
    "\n",
    "# Define some variables\n",
    "x = 5 # Comment on the same line\n",
    "y = 2 * (x + 5)"
   ]
  },
  {
   "cell_type": "code",
   "execution_count": 2,
   "metadata": {
    "collapsed": false,
    "slideshow": {
     "slide_type": "subslide"
    }
   },
   "outputs": [
    {
     "name": "stdout",
     "output_type": "stream",
     "text": [
      "If you want to continue your statement on the next line, use the backslash symbol\n",
      "20\n",
      "This is another\n",
      "example of entering\n",
      "a long string\n"
     ]
    }
   ],
   "source": [
    "# Note that you do not have to specify types!\n",
    "\n",
    "s = \"If you want to continue your statement on \\\n",
    "the next line, use the backslash symbol\"\n",
    "\n",
    "s2 = '''This is another\n",
    "example of entering\n",
    "a long string'''\n",
    "\n",
    "print(s)\n",
    "print(y)\n",
    "print(s2)"
   ]
  },
  {
   "cell_type": "code",
   "execution_count": 4,
   "metadata": {
    "collapsed": false,
    "slideshow": {
     "slide_type": "subslide"
    }
   },
   "outputs": [
    {
     "name": "stdout",
     "output_type": "stream",
     "text": [
      "Hooray!\n"
     ]
    }
   ],
   "source": [
    "if 1+1==2:\n",
    "    # The colon indicates the start of a block of code,\n",
    "    # often indicated with { ... } in other languages.\n",
    "    # Python requires you to indent the entire block!\n",
    "    print(\"Hooray!\")"
   ]
  },
  {
   "cell_type": "markdown",
   "metadata": {
    "slideshow": {
     "slide_type": "slide"
    }
   },
   "source": [
    "## Symbols and operators"
   ]
  },
  {
   "cell_type": "markdown",
   "metadata": {
    "slideshow": {
     "slide_type": "subslide"
    }
   },
   "source": [
    "<h3>Basic</h3>\n",
    "<table>\n",
    "<tr><td><strong>Symbol / operator</strong></td><td><strong>Meaning</strong></td></tr>\n",
    "<tr><td>=</td><td>Assignment</td></tr>\n",
    "<tr><td>#</td><td>Start of comment</td></tr>\n",
    "<tr><td>( )</td><td>Grouping</td></tr>\n",
    "<tr><td>\\</td><td>Multi-line statement</td></tr>\n",
    "<tr><td>;</td><td>Multiple statements on one line</td></tr>\n",
    "<tr><td>:</td><td>Start of block</td></tr>\n",
    "</table>"
   ]
  },
  {
   "cell_type": "markdown",
   "metadata": {
    "slideshow": {
     "slide_type": "subslide"
    }
   },
   "source": [
    "<h3>Mathematics</h3>\n",
    "<table>\n",
    "<tr><td><strong>Symbol / operator</strong></td><td><strong>Meaning</strong></td></tr>\n",
    "<tr><td>+</td><td>Addition (also used for concatenation)</td></tr>\n",
    "<tr><td>-</td><td>Subtraction</td></tr>\n",
    "<tr><td>*</td><td>Multiplication</td></tr>\n",
    "<tr><td>/</td><td>Division</td></tr>\n",
    "<tr><td>//</td><td>Integer division</td></tr>\n",
    "<tr><td>**</td><td>Power / exponent</td></tr>\n",
    "<tr><td>%</td><td>Modulus</td></tr>\n",
    "<tr><td>j or J</td><td>Imaginery part of complex number</td></tr>\n",
    "</table>"
   ]
  },
  {
   "cell_type": "markdown",
   "metadata": {
    "slideshow": {
     "slide_type": "slide"
    }
   },
   "source": [
    "## Keywords: reserved words that cannot be used as identifier"
   ]
  },
  {
   "cell_type": "markdown",
   "metadata": {
    "slideshow": {
     "slide_type": "fragment"
    }
   },
   "source": [
    "<pre>\n",
    "False      class      finally    is         return\n",
    "None       continue   for        lambda     try\n",
    "True       def        from       nonlocal   while\n",
    "and        del        global     not        with\n",
    "as         elif       if         or         yield\n",
    "assert     else       import     pass\n",
    "break      except     in         raise\n",
    "</pre>"
   ]
  }
 ],
 "metadata": {
  "celltoolbar": "Slideshow",
  "kernelspec": {
   "display_name": "Python 3",
   "language": "python",
   "name": "python3"
  },
  "language_info": {
   "codemirror_mode": {
    "name": "ipython",
    "version": 3
   },
   "file_extension": ".py",
   "mimetype": "text/x-python",
   "name": "python",
   "nbconvert_exporter": "python",
   "pygments_lexer": "ipython3",
   "version": "3.4.0"
  }
 },
 "nbformat": 4,
 "nbformat_minor": 0
}
