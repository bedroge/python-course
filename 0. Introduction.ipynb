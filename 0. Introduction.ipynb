{
 "cells": [
  {
   "cell_type": "markdown",
   "metadata": {
    "slideshow": {
     "slide_type": "slide"
    }
   },
   "source": [
    "<center>     <img src=\"images/rug.jpg\" width=\"300\" /> <h2>Python course</h2> Fokke Dijkstra, Bob Dröge<br /> f.dijkstra@rug.nl, b.e.droge@rug.nl<br /> Research and Innovation Support group<br /> Centre for Information Technology <img src=\"images/python.png\" width=50% /> </center>"
   ]
  },
  {
   "cell_type": "markdown",
   "metadata": {
    "slideshow": {
     "slide_type": "slide"
    }
   },
   "source": [
    "<h1>General introduction</h1>\n",
    "- Course aimed at beginners\n",
    " - Some feeling for programming assumed\n",
    "\n",
    "- Topics\n",
    " - Motivation and introduction to Python\n",
    " - Python basics\n",
    " - More sophisticated examples\n",
    " - (Advanced topics? Numpy/MPI/Numba/?)\n"
   ]
  },
  {
   "cell_type": "markdown",
   "metadata": {
    "slideshow": {
     "slide_type": "slide"
    }
   },
   "source": [
    "<h1>What is Python?</h1>\n",
    "- \"High-level\" programming language\n",
    "- \"Scripting\" language\n",
    "- Object oriented\n",
    "\n",
    "- Can be used for:\n",
    " - Writing any kind of application\n",
    " - Automating tasks\n",
    " - GUIs, databases, internet, XML\n",
    " - Gluing together different components\n",
    " - Numeric/scientific programming\n",
    " - and more...!\n",
    "\n"
   ]
  },
  {
   "cell_type": "markdown",
   "metadata": {
    "slideshow": {
     "slide_type": "slide"
    }
   },
   "source": [
    "<h1>Why Python?</h1>\n",
    "- Software quality\n",
    " - Simple and readable syntax\n",
    "- Productivity, easy to learn and use\n",
    " - Speed of development, type and run\n",
    " - Cleaner, shorter code\n",
    "- Portability\n",
    " - Most code runs on many different platforms\n",
    "- Support libraries\n",
    " - Large integrated standard library\n",
    " - Large community -> third party modules\n",
    "- Open source: free!\n"
   ]
  },
  {
   "cell_type": "markdown",
   "metadata": {
    "slideshow": {
     "slide_type": "slide"
    }
   },
   "source": [
    "<h1>Why not Python?</h1>\n",
    "- Most programs run slower than compiled / low-level languages\n",
    "- Indentation errors can be annoying\n",
    "- Different versions which are not backwards compatible\n",
    "\n"
   ]
  },
  {
   "cell_type": "markdown",
   "metadata": {
    "slideshow": {
     "slide_type": "slide"
    }
   },
   "source": [
    "<h1>Python 2 versus Python 3</h1>\n",
    "- Slide over de verschillende versies?\n",
    "- Welke te kiezen?\n",
    "- 2 is final en wordt niet meer doorontwikkeld\n",
    "- 3 is “de toekomst”\n"
   ]
  },
  {
   "cell_type": "markdown",
   "metadata": {
    "slideshow": {
     "slide_type": "slide"
    }
   },
   "source": [
    "<h1>How to install Python?</h1>\n",
    "- Installers for different operating systems and source code available at:<br />\n",
    "    http://www.python.org/download/\n",
    "- Usually pre-installed on Mac OS(X) and most Linux distributions\n",
    "- Default installation includes:\n",
    "    - Python\n",
    "    - Documentation and manuals\n",
    "    - IDLE (Integrated Development Environment)\n",
    "- Alternative installations available as well\n",
    "\n",
    "\n",
    "\n"
   ]
  },
  {
   "cell_type": "markdown",
   "metadata": {
    "slideshow": {
     "slide_type": "slide"
    }
   },
   "source": [
    "<h1>Python interpreter</h1>\n",
    "- Started by running the \"python\" executable in a terminal\n",
    "- In Windows, it can be launched from the Start menu\n",
    "\n",
    "<img src=\"files/images/python-windows.png\" />"
   ]
  },
  {
   "cell_type": "markdown",
   "metadata": {
    "slideshow": {
     "slide_type": "subslide"
    }
   },
   "source": [
    "<h1>Python interpreter (2)</h1>\n",
    "- Allows you to execute Python commands\n",
    "- Results are shown immediately\n",
    "- Comparable with, for instance, Matlab and R\n",
    "\n",
    "<img src=\"files/images/python-windows2.png\" />"
   ]
  },
  {
   "cell_type": "markdown",
   "metadata": {
    "slideshow": {
     "slide_type": "slide"
    }
   },
   "source": [
    "<h2>IDLE</h2>\n",
    "\n",
    "- Graphical Python development environment with more features:\n",
    "    - Integrated editor\n",
    "    - Undo / redo\n",
    "    - Debugging options\n",
    "    - Code coloring\n",
    "    - Smart indent\n",
    "    - Call tips\n",
    "    - Autocomplete"
   ]
  },
  {
   "cell_type": "markdown",
   "metadata": {
    "slideshow": {
     "slide_type": "subslide"
    }
   },
   "source": [
    "<img src=\"files/images/idle.png\" />"
   ]
  },
  {
   "cell_type": "markdown",
   "metadata": {
    "slideshow": {
     "slide_type": "slide"
    }
   },
   "source": [
    "<h1>More (advanced) IDEs</h1>\n",
    "- Overview on the Python website:\n",
    "    - http://wiki.python.org/moin/IntegratedDevelopmentEnvironments\n",
    "        \n",
    "- For instance, Spyder:\n",
    "    - Integrated, advanced Python code editor\n",
    "    - Code checking, syntax highlighting\n",
    "    - Python shell\n",
    "    - Documentation\n",
    "    - Free\n",
    "    - And more...\n",
    "    "
   ]
  },
  {
   "cell_type": "markdown",
   "metadata": {
    "slideshow": {
     "slide_type": "subslide"
    }
   },
   "source": [
    "<img src=\"files/images/spyder.png\" />"
   ]
  },
  {
   "cell_type": "markdown",
   "metadata": {
    "slideshow": {
     "slide_type": "slide"
    }
   },
   "source": [
    "<h1>Python programs/scripts</h1>\n",
    "- Text file(s) containing Python code\n",
    "- Written in some text editor or IDE\n",
    "    - Consistent use of spaces / tabs!\n",
    "- File extension should be .py, e.g. \"myprogram.py\"\n",
    "- Run by:\n",
    "    - executing \"python.exe myprogram.py\" (Windows)\n",
    "    - executing \"python myprogram.py\" (Linux/Mac)\n",
    "    - double-clicking usually works as well\n",
    "- Python will automatically create compiled versions of your .py source files and store them as .pyc files\n",
    "    - These are automatically updated when the source file is changed\n",
    "    - Improves the performances"
   ]
  }
 ],
 "metadata": {
  "celltoolbar": "Slideshow",
  "kernelspec": {
   "display_name": "Python 3",
   "language": "python",
   "name": "python3"
  },
  "language_info": {
   "codemirror_mode": {
    "name": "ipython",
    "version": 3
   },
   "file_extension": ".py",
   "mimetype": "text/x-python",
   "name": "python",
   "nbconvert_exporter": "python",
   "pygments_lexer": "ipython3",
   "version": "3.4.0"
  }
 },
 "nbformat": 4,
 "nbformat_minor": 0
}
